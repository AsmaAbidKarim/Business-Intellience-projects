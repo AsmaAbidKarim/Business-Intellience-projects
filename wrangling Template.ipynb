{
 "cells": [
  {
   "cell_type": "markdown",
   "id": "3d25e7ad",
   "metadata": {},
   "source": [
    "# Wrangling Template"
   ]
  },
  {
   "cell_type": "code",
   "execution_count": 1,
   "id": "276f211b",
   "metadata": {},
   "outputs": [],
   "source": [
    "import pandas as pd\n",
    "import numpy as np\n",
    "from matplotlib import pyplot as plt\n",
    "import seaborn as sns\n",
    "import missingno as msno\n",
    "from scipy import stats"
   ]
  },
  {
   "cell_type": "markdown",
   "id": "2e3a0e00",
   "metadata": {},
   "source": [
    "All the needed libraries are added in the cell above."
   ]
  },
  {
   "cell_type": "markdown",
   "id": "708295c3",
   "metadata": {},
   "source": [
    "## DATA"
   ]
  },
  {
   "cell_type": "code",
   "execution_count": 2,
   "id": "f5daee4a",
   "metadata": {
    "scrolled": true
   },
   "outputs": [
    {
     "data": {
      "text/html": [
       "<div>\n",
       "<style scoped>\n",
       "    .dataframe tbody tr th:only-of-type {\n",
       "        vertical-align: middle;\n",
       "    }\n",
       "\n",
       "    .dataframe tbody tr th {\n",
       "        vertical-align: top;\n",
       "    }\n",
       "\n",
       "    .dataframe thead th {\n",
       "        text-align: right;\n",
       "    }\n",
       "</style>\n",
       "<table border=\"1\" class=\"dataframe\">\n",
       "  <thead>\n",
       "    <tr style=\"text-align: right;\">\n",
       "      <th></th>\n",
       "      <th>datetime</th>\n",
       "      <th>season</th>\n",
       "      <th>holiday</th>\n",
       "      <th>workingday</th>\n",
       "      <th>weather</th>\n",
       "      <th>temp</th>\n",
       "      <th>atemp</th>\n",
       "      <th>humidity</th>\n",
       "      <th>windspeed</th>\n",
       "      <th>casual</th>\n",
       "      <th>registered</th>\n",
       "      <th>count</th>\n",
       "      <th>total</th>\n",
       "      <th>Products</th>\n",
       "    </tr>\n",
       "  </thead>\n",
       "  <tbody>\n",
       "    <tr>\n",
       "      <th>0</th>\n",
       "      <td>1/1/2011 0:00</td>\n",
       "      <td>1.0</td>\n",
       "      <td>0</td>\n",
       "      <td>0.0</td>\n",
       "      <td>1.0</td>\n",
       "      <td>9.84</td>\n",
       "      <td>14.395</td>\n",
       "      <td>81.0</td>\n",
       "      <td>0</td>\n",
       "      <td>3.0</td>\n",
       "      <td>13.0</td>\n",
       "      <td>16</td>\n",
       "      <td>1.0</td>\n",
       "      <td>abc</td>\n",
       "    </tr>\n",
       "    <tr>\n",
       "      <th>1</th>\n",
       "      <td>1/1/2011 1:00</td>\n",
       "      <td>1.0</td>\n",
       "      <td>0</td>\n",
       "      <td>0.0</td>\n",
       "      <td>1.0</td>\n",
       "      <td>9.02</td>\n",
       "      <td>13.635</td>\n",
       "      <td>80.0</td>\n",
       "      <td>0</td>\n",
       "      <td>8.0</td>\n",
       "      <td>32.0</td>\n",
       "      <td>40</td>\n",
       "      <td>2.0</td>\n",
       "      <td>abc</td>\n",
       "    </tr>\n",
       "    <tr>\n",
       "      <th>2</th>\n",
       "      <td>1/1/2011 2:00</td>\n",
       "      <td>1.0</td>\n",
       "      <td>0</td>\n",
       "      <td>0.0</td>\n",
       "      <td>1.0</td>\n",
       "      <td>9.02</td>\n",
       "      <td>13.635</td>\n",
       "      <td>80.0</td>\n",
       "      <td>0</td>\n",
       "      <td>5.0</td>\n",
       "      <td>27.0</td>\n",
       "      <td>32</td>\n",
       "      <td>3.0</td>\n",
       "      <td>abc</td>\n",
       "    </tr>\n",
       "    <tr>\n",
       "      <th>3</th>\n",
       "      <td>1/1/2011 3:00</td>\n",
       "      <td>1.0</td>\n",
       "      <td>0</td>\n",
       "      <td>0.0</td>\n",
       "      <td>1.0</td>\n",
       "      <td>9.84</td>\n",
       "      <td>14.395</td>\n",
       "      <td>75.0</td>\n",
       "      <td>0</td>\n",
       "      <td>3.0</td>\n",
       "      <td>10.0</td>\n",
       "      <td>13</td>\n",
       "      <td>NaN</td>\n",
       "      <td>abc</td>\n",
       "    </tr>\n",
       "    <tr>\n",
       "      <th>4</th>\n",
       "      <td>1/1/2011 4:00</td>\n",
       "      <td>1.0</td>\n",
       "      <td>0</td>\n",
       "      <td>0.0</td>\n",
       "      <td>1.0</td>\n",
       "      <td>9.84</td>\n",
       "      <td>14.395</td>\n",
       "      <td>75.0</td>\n",
       "      <td>0</td>\n",
       "      <td>0.0</td>\n",
       "      <td>1.0</td>\n",
       "      <td>1</td>\n",
       "      <td>NaN</td>\n",
       "      <td>abc</td>\n",
       "    </tr>\n",
       "    <tr>\n",
       "      <th>...</th>\n",
       "      <td>...</td>\n",
       "      <td>...</td>\n",
       "      <td>...</td>\n",
       "      <td>...</td>\n",
       "      <td>...</td>\n",
       "      <td>...</td>\n",
       "      <td>...</td>\n",
       "      <td>...</td>\n",
       "      <td>...</td>\n",
       "      <td>...</td>\n",
       "      <td>...</td>\n",
       "      <td>...</td>\n",
       "      <td>...</td>\n",
       "      <td>...</td>\n",
       "    </tr>\n",
       "    <tr>\n",
       "      <th>10881</th>\n",
       "      <td>12/19/2012 19:00</td>\n",
       "      <td>NaN</td>\n",
       "      <td>NaN</td>\n",
       "      <td>NaN</td>\n",
       "      <td>NaN</td>\n",
       "      <td>NaN</td>\n",
       "      <td>NaN</td>\n",
       "      <td>NaN</td>\n",
       "      <td>NaN</td>\n",
       "      <td>NaN</td>\n",
       "      <td>NaN</td>\n",
       "      <td>NaN</td>\n",
       "      <td>NaN</td>\n",
       "      <td>NaN</td>\n",
       "    </tr>\n",
       "    <tr>\n",
       "      <th>10882</th>\n",
       "      <td>12/19/2012 20:00</td>\n",
       "      <td>NaN</td>\n",
       "      <td>NaN</td>\n",
       "      <td>NaN</td>\n",
       "      <td>NaN</td>\n",
       "      <td>NaN</td>\n",
       "      <td>NaN</td>\n",
       "      <td>NaN</td>\n",
       "      <td>NaN</td>\n",
       "      <td>NaN</td>\n",
       "      <td>NaN</td>\n",
       "      <td>NaN</td>\n",
       "      <td>NaN</td>\n",
       "      <td>NaN</td>\n",
       "    </tr>\n",
       "    <tr>\n",
       "      <th>10883</th>\n",
       "      <td>12/19/2012 21:00</td>\n",
       "      <td>NaN</td>\n",
       "      <td>NaN</td>\n",
       "      <td>NaN</td>\n",
       "      <td>NaN</td>\n",
       "      <td>NaN</td>\n",
       "      <td>NaN</td>\n",
       "      <td>NaN</td>\n",
       "      <td>NaN</td>\n",
       "      <td>NaN</td>\n",
       "      <td>NaN</td>\n",
       "      <td>NaN</td>\n",
       "      <td>NaN</td>\n",
       "      <td>NaN</td>\n",
       "    </tr>\n",
       "    <tr>\n",
       "      <th>10884</th>\n",
       "      <td>12/19/2012 22:00</td>\n",
       "      <td>NaN</td>\n",
       "      <td>NaN</td>\n",
       "      <td>NaN</td>\n",
       "      <td>NaN</td>\n",
       "      <td>NaN</td>\n",
       "      <td>NaN</td>\n",
       "      <td>NaN</td>\n",
       "      <td>NaN</td>\n",
       "      <td>NaN</td>\n",
       "      <td>NaN</td>\n",
       "      <td>NaN</td>\n",
       "      <td>NaN</td>\n",
       "      <td>NaN</td>\n",
       "    </tr>\n",
       "    <tr>\n",
       "      <th>10885</th>\n",
       "      <td>12/19/2012 23:00</td>\n",
       "      <td>NaN</td>\n",
       "      <td>NaN</td>\n",
       "      <td>NaN</td>\n",
       "      <td>NaN</td>\n",
       "      <td>NaN</td>\n",
       "      <td>NaN</td>\n",
       "      <td>NaN</td>\n",
       "      <td>NaN</td>\n",
       "      <td>NaN</td>\n",
       "      <td>NaN</td>\n",
       "      <td>NaN</td>\n",
       "      <td>NaN</td>\n",
       "      <td>NaN</td>\n",
       "    </tr>\n",
       "  </tbody>\n",
       "</table>\n",
       "<p>10886 rows × 14 columns</p>\n",
       "</div>"
      ],
      "text/plain": [
       "               datetime  season holiday  workingday  weather  temp   atemp  \\\n",
       "0         1/1/2011 0:00     1.0       0         0.0      1.0  9.84  14.395   \n",
       "1         1/1/2011 1:00     1.0       0         0.0      1.0  9.02  13.635   \n",
       "2         1/1/2011 2:00     1.0       0         0.0      1.0  9.02  13.635   \n",
       "3         1/1/2011 3:00     1.0       0         0.0      1.0  9.84  14.395   \n",
       "4         1/1/2011 4:00     1.0       0         0.0      1.0  9.84  14.395   \n",
       "...                 ...     ...     ...         ...      ...   ...     ...   \n",
       "10881  12/19/2012 19:00     NaN     NaN         NaN      NaN   NaN     NaN   \n",
       "10882  12/19/2012 20:00     NaN     NaN         NaN      NaN   NaN     NaN   \n",
       "10883  12/19/2012 21:00     NaN     NaN         NaN      NaN   NaN     NaN   \n",
       "10884  12/19/2012 22:00     NaN     NaN         NaN      NaN   NaN     NaN   \n",
       "10885  12/19/2012 23:00     NaN     NaN         NaN      NaN   NaN     NaN   \n",
       "\n",
       "       humidity windspeed  casual  registered count  total Products  \n",
       "0          81.0         0     3.0        13.0    16    1.0      abc  \n",
       "1          80.0         0     8.0        32.0    40    2.0      abc  \n",
       "2          80.0         0     5.0        27.0    32    3.0      abc  \n",
       "3          75.0         0     3.0        10.0    13    NaN      abc  \n",
       "4          75.0         0     0.0         1.0     1    NaN      abc  \n",
       "...         ...       ...     ...         ...   ...    ...      ...  \n",
       "10881       NaN       NaN     NaN         NaN   NaN    NaN      NaN  \n",
       "10882       NaN       NaN     NaN         NaN   NaN    NaN      NaN  \n",
       "10883       NaN       NaN     NaN         NaN   NaN    NaN      NaN  \n",
       "10884       NaN       NaN     NaN         NaN   NaN    NaN      NaN  \n",
       "10885       NaN       NaN     NaN         NaN   NaN    NaN      NaN  \n",
       "\n",
       "[10886 rows x 14 columns]"
      ]
     },
     "execution_count": 2,
     "metadata": {},
     "output_type": "execute_result"
    }
   ],
   "source": [
    "df = pd.read_csv(\"dirty.data.csv\",encoding = 'unicode_escape')\n",
    "#df.head() can also be used\n",
    "df"
   ]
  },
  {
   "cell_type": "markdown",
   "id": "3e4fd1c9",
   "metadata": {},
   "source": [
    "The data in the csv file is read using python library to read csv files. It's then displayed to just get a rough idea of data and columns it contains."
   ]
  },
  {
   "cell_type": "code",
   "execution_count": 3,
   "id": "5ccfb3e1",
   "metadata": {},
   "outputs": [
    {
     "data": {
      "text/plain": [
       "(10886, 14)"
      ]
     },
     "execution_count": 3,
     "metadata": {},
     "output_type": "execute_result"
    }
   ],
   "source": [
    "##displays the numbers of rows and columns a data contains.\n",
    "df.shape"
   ]
  },
  {
   "cell_type": "markdown",
   "id": "9d311fd6",
   "metadata": {},
   "source": [
    "Data have 14 cols and more than 10,000 entries."
   ]
  },
  {
   "cell_type": "markdown",
   "id": "4304d75e",
   "metadata": {},
   "source": [
    "## Data Types or Information of Data"
   ]
  },
  {
   "cell_type": "code",
   "execution_count": 4,
   "id": "fa62d724",
   "metadata": {},
   "outputs": [
    {
     "name": "stdout",
     "output_type": "stream",
     "text": [
      "<class 'pandas.core.frame.DataFrame'>\n",
      "RangeIndex: 10886 entries, 0 to 10885\n",
      "Data columns (total 14 columns):\n",
      " #   Column      Non-Null Count  Dtype  \n",
      "---  ------      --------------  -----  \n",
      " 0   datetime    10882 non-null  object \n",
      " 1   season      10877 non-null  float64\n",
      " 2   holiday     10879 non-null  object \n",
      " 3   workingday  10878 non-null  float64\n",
      " 4   weather     10879 non-null  float64\n",
      " 5   temp        10876 non-null  float64\n",
      " 6   atemp       10879 non-null  float64\n",
      " 7   humidity    10873 non-null  float64\n",
      " 8   windspeed   10874 non-null  object \n",
      " 9   casual      10878 non-null  float64\n",
      " 10  registered  10877 non-null  float64\n",
      " 11  count       10875 non-null  object \n",
      " 12  total       3 non-null      float64\n",
      " 13  Products    10879 non-null  object \n",
      "dtypes: float64(9), object(5)\n",
      "memory usage: 1.2+ MB\n"
     ]
    }
   ],
   "source": [
    "df.info()"
   ]
  },
  {
   "cell_type": "markdown",
   "id": "516bfec6",
   "metadata": {},
   "source": [
    "The dataframe's information is printed using the info() function. The number of columns, column labels, column data types, memory use, range index, and the number of cells in each column are all included in the data (non-null values)."
   ]
  },
  {
   "cell_type": "markdown",
   "id": "2be46a0f",
   "metadata": {},
   "source": [
    "## Missing Values Analysis"
   ]
  },
  {
   "cell_type": "code",
   "execution_count": 5,
   "id": "f29906e9",
   "metadata": {},
   "outputs": [
    {
     "data": {
      "text/html": [
       "<div>\n",
       "<style scoped>\n",
       "    .dataframe tbody tr th:only-of-type {\n",
       "        vertical-align: middle;\n",
       "    }\n",
       "\n",
       "    .dataframe tbody tr th {\n",
       "        vertical-align: top;\n",
       "    }\n",
       "\n",
       "    .dataframe thead th {\n",
       "        text-align: right;\n",
       "    }\n",
       "</style>\n",
       "<table border=\"1\" class=\"dataframe\">\n",
       "  <thead>\n",
       "    <tr style=\"text-align: right;\">\n",
       "      <th></th>\n",
       "      <th>datetime</th>\n",
       "      <th>season</th>\n",
       "      <th>holiday</th>\n",
       "      <th>workingday</th>\n",
       "      <th>weather</th>\n",
       "      <th>temp</th>\n",
       "      <th>atemp</th>\n",
       "      <th>humidity</th>\n",
       "      <th>windspeed</th>\n",
       "      <th>casual</th>\n",
       "      <th>registered</th>\n",
       "      <th>count</th>\n",
       "      <th>total</th>\n",
       "      <th>Products</th>\n",
       "    </tr>\n",
       "  </thead>\n",
       "  <tbody>\n",
       "    <tr>\n",
       "      <th>0</th>\n",
       "      <td>False</td>\n",
       "      <td>False</td>\n",
       "      <td>False</td>\n",
       "      <td>False</td>\n",
       "      <td>False</td>\n",
       "      <td>False</td>\n",
       "      <td>False</td>\n",
       "      <td>False</td>\n",
       "      <td>False</td>\n",
       "      <td>False</td>\n",
       "      <td>False</td>\n",
       "      <td>False</td>\n",
       "      <td>False</td>\n",
       "      <td>False</td>\n",
       "    </tr>\n",
       "    <tr>\n",
       "      <th>1</th>\n",
       "      <td>False</td>\n",
       "      <td>False</td>\n",
       "      <td>False</td>\n",
       "      <td>False</td>\n",
       "      <td>False</td>\n",
       "      <td>False</td>\n",
       "      <td>False</td>\n",
       "      <td>False</td>\n",
       "      <td>False</td>\n",
       "      <td>False</td>\n",
       "      <td>False</td>\n",
       "      <td>False</td>\n",
       "      <td>False</td>\n",
       "      <td>False</td>\n",
       "    </tr>\n",
       "    <tr>\n",
       "      <th>2</th>\n",
       "      <td>False</td>\n",
       "      <td>False</td>\n",
       "      <td>False</td>\n",
       "      <td>False</td>\n",
       "      <td>False</td>\n",
       "      <td>False</td>\n",
       "      <td>False</td>\n",
       "      <td>False</td>\n",
       "      <td>False</td>\n",
       "      <td>False</td>\n",
       "      <td>False</td>\n",
       "      <td>False</td>\n",
       "      <td>False</td>\n",
       "      <td>False</td>\n",
       "    </tr>\n",
       "    <tr>\n",
       "      <th>3</th>\n",
       "      <td>False</td>\n",
       "      <td>False</td>\n",
       "      <td>False</td>\n",
       "      <td>False</td>\n",
       "      <td>False</td>\n",
       "      <td>False</td>\n",
       "      <td>False</td>\n",
       "      <td>False</td>\n",
       "      <td>False</td>\n",
       "      <td>False</td>\n",
       "      <td>False</td>\n",
       "      <td>False</td>\n",
       "      <td>True</td>\n",
       "      <td>False</td>\n",
       "    </tr>\n",
       "    <tr>\n",
       "      <th>4</th>\n",
       "      <td>False</td>\n",
       "      <td>False</td>\n",
       "      <td>False</td>\n",
       "      <td>False</td>\n",
       "      <td>False</td>\n",
       "      <td>False</td>\n",
       "      <td>False</td>\n",
       "      <td>False</td>\n",
       "      <td>False</td>\n",
       "      <td>False</td>\n",
       "      <td>False</td>\n",
       "      <td>False</td>\n",
       "      <td>True</td>\n",
       "      <td>False</td>\n",
       "    </tr>\n",
       "    <tr>\n",
       "      <th>...</th>\n",
       "      <td>...</td>\n",
       "      <td>...</td>\n",
       "      <td>...</td>\n",
       "      <td>...</td>\n",
       "      <td>...</td>\n",
       "      <td>...</td>\n",
       "      <td>...</td>\n",
       "      <td>...</td>\n",
       "      <td>...</td>\n",
       "      <td>...</td>\n",
       "      <td>...</td>\n",
       "      <td>...</td>\n",
       "      <td>...</td>\n",
       "      <td>...</td>\n",
       "    </tr>\n",
       "    <tr>\n",
       "      <th>10881</th>\n",
       "      <td>False</td>\n",
       "      <td>True</td>\n",
       "      <td>True</td>\n",
       "      <td>True</td>\n",
       "      <td>True</td>\n",
       "      <td>True</td>\n",
       "      <td>True</td>\n",
       "      <td>True</td>\n",
       "      <td>True</td>\n",
       "      <td>True</td>\n",
       "      <td>True</td>\n",
       "      <td>True</td>\n",
       "      <td>True</td>\n",
       "      <td>True</td>\n",
       "    </tr>\n",
       "    <tr>\n",
       "      <th>10882</th>\n",
       "      <td>False</td>\n",
       "      <td>True</td>\n",
       "      <td>True</td>\n",
       "      <td>True</td>\n",
       "      <td>True</td>\n",
       "      <td>True</td>\n",
       "      <td>True</td>\n",
       "      <td>True</td>\n",
       "      <td>True</td>\n",
       "      <td>True</td>\n",
       "      <td>True</td>\n",
       "      <td>True</td>\n",
       "      <td>True</td>\n",
       "      <td>True</td>\n",
       "    </tr>\n",
       "    <tr>\n",
       "      <th>10883</th>\n",
       "      <td>False</td>\n",
       "      <td>True</td>\n",
       "      <td>True</td>\n",
       "      <td>True</td>\n",
       "      <td>True</td>\n",
       "      <td>True</td>\n",
       "      <td>True</td>\n",
       "      <td>True</td>\n",
       "      <td>True</td>\n",
       "      <td>True</td>\n",
       "      <td>True</td>\n",
       "      <td>True</td>\n",
       "      <td>True</td>\n",
       "      <td>True</td>\n",
       "    </tr>\n",
       "    <tr>\n",
       "      <th>10884</th>\n",
       "      <td>False</td>\n",
       "      <td>True</td>\n",
       "      <td>True</td>\n",
       "      <td>True</td>\n",
       "      <td>True</td>\n",
       "      <td>True</td>\n",
       "      <td>True</td>\n",
       "      <td>True</td>\n",
       "      <td>True</td>\n",
       "      <td>True</td>\n",
       "      <td>True</td>\n",
       "      <td>True</td>\n",
       "      <td>True</td>\n",
       "      <td>True</td>\n",
       "    </tr>\n",
       "    <tr>\n",
       "      <th>10885</th>\n",
       "      <td>False</td>\n",
       "      <td>True</td>\n",
       "      <td>True</td>\n",
       "      <td>True</td>\n",
       "      <td>True</td>\n",
       "      <td>True</td>\n",
       "      <td>True</td>\n",
       "      <td>True</td>\n",
       "      <td>True</td>\n",
       "      <td>True</td>\n",
       "      <td>True</td>\n",
       "      <td>True</td>\n",
       "      <td>True</td>\n",
       "      <td>True</td>\n",
       "    </tr>\n",
       "  </tbody>\n",
       "</table>\n",
       "<p>10886 rows × 14 columns</p>\n",
       "</div>"
      ],
      "text/plain": [
       "       datetime  season  holiday  workingday  weather   temp  atemp  humidity  \\\n",
       "0         False   False    False       False    False  False  False     False   \n",
       "1         False   False    False       False    False  False  False     False   \n",
       "2         False   False    False       False    False  False  False     False   \n",
       "3         False   False    False       False    False  False  False     False   \n",
       "4         False   False    False       False    False  False  False     False   \n",
       "...         ...     ...      ...         ...      ...    ...    ...       ...   \n",
       "10881     False    True     True        True     True   True   True      True   \n",
       "10882     False    True     True        True     True   True   True      True   \n",
       "10883     False    True     True        True     True   True   True      True   \n",
       "10884     False    True     True        True     True   True   True      True   \n",
       "10885     False    True     True        True     True   True   True      True   \n",
       "\n",
       "       windspeed  casual  registered  count  total  Products  \n",
       "0          False   False       False  False  False     False  \n",
       "1          False   False       False  False  False     False  \n",
       "2          False   False       False  False  False     False  \n",
       "3          False   False       False  False   True     False  \n",
       "4          False   False       False  False   True     False  \n",
       "...          ...     ...         ...    ...    ...       ...  \n",
       "10881       True    True        True   True   True      True  \n",
       "10882       True    True        True   True   True      True  \n",
       "10883       True    True        True   True   True      True  \n",
       "10884       True    True        True   True   True      True  \n",
       "10885       True    True        True   True   True      True  \n",
       "\n",
       "[10886 rows x 14 columns]"
      ]
     },
     "execution_count": 5,
     "metadata": {},
     "output_type": "execute_result"
    }
   ],
   "source": [
    "df.isna()"
   ]
  },
  {
   "cell_type": "code",
   "execution_count": 6,
   "id": "83600fcc",
   "metadata": {},
   "outputs": [
    {
     "data": {
      "text/plain": [
       "datetime          4\n",
       "season            9\n",
       "holiday           7\n",
       "workingday        8\n",
       "weather           7\n",
       "temp             10\n",
       "atemp             7\n",
       "humidity         13\n",
       "windspeed        12\n",
       "casual            8\n",
       "registered        9\n",
       "count            11\n",
       "total         10883\n",
       "Products          7\n",
       "dtype: int64"
      ]
     },
     "execution_count": 6,
     "metadata": {},
     "output_type": "execute_result"
    }
   ],
   "source": [
    "df.isna().sum()"
   ]
  },
  {
   "cell_type": "markdown",
   "id": "38b52677",
   "metadata": {},
   "source": [
    "> This produces a summary of how many missing values the dataframe has. The isna() function looks for missing values in the dataframe and returns a Boolean result for each element. The sum() function counts how many True values there are.\n",
    "\n",
    "> In this data the most null values are shown in data which we will be visulized below.\n",
    "\n",
    "> Other columns having missing values will be dealt as per the requirement."
   ]
  },
  {
   "cell_type": "markdown",
   "id": "29fecf7a",
   "metadata": {},
   "source": [
    "### Visulization of Missing Value"
   ]
  },
  {
   "cell_type": "markdown",
   "id": "78fad47c",
   "metadata": {},
   "source": [
    "#### BAR Plot"
   ]
  },
  {
   "cell_type": "code",
   "execution_count": 7,
   "id": "07ef2fa7",
   "metadata": {},
   "outputs": [
    {
     "data": {
      "text/plain": [
       "<AxesSubplot:>"
      ]
     },
     "execution_count": 7,
     "metadata": {},
     "output_type": "execute_result"
    },
    {
     "data": {
      "image/png": "[encoded data removed]",
      "text/plain": [
       "<Figure size 1728x720 with 3 Axes>"
      ]
     },
     "metadata": {
      "needs_background": "light"
     },
     "output_type": "display_data"
    }
   ],
   "source": [
    "msno.bar(df)"
   ]
  },
  {
   "cell_type": "markdown",
   "id": "80ea25c7",
   "metadata": {},
   "source": [
    "> The barplot is a basic plot in which each bar represents one of the dataframe's columns. The height of the bar represents the column's completeness, or the number of non-null values present.\n",
    "\n",
    ">The scale is measured in index values on the x-axis of the graphic. The upper right corner represents the dataframe's maximum amount of rows.\n",
    "\n",
    ">The y-axis scale on the left side of the figure spans from 0.0 to 1.0, with 1.0 representing 100% data completeness. If the bar is smaller than this, it means that that column has missing values.\n",
    "\n",
    ">There are a series of numbers along the top of the plot that show the overall count of non-null values inside that column.\n"
   ]
  },
  {
   "cell_type": "markdown",
   "id": "02bc7de6",
   "metadata": {},
   "source": [
    "#### Matrix Plot"
   ]
  },
  {
   "cell_type": "code",
   "execution_count": 8,
   "id": "d6119e21",
   "metadata": {},
   "outputs": [
    {
     "data": {
      "text/plain": [
       "<AxesSubplot:>"
      ]
     },
     "execution_count": 8,
     "metadata": {},
     "output_type": "execute_result"
    },
    {
     "data": {
      "image/png": "[encoded data removed]",
      "text/plain": [
       "<Figure size 1800x720 with 2 Axes>"
      ]
     },
     "metadata": {
      "needs_background": "light"
     },
     "output_type": "display_data"
    }
   ],
   "source": [
    "msno.matrix(df)"
   ]
  },
  {
   "cell_type": "markdown",
   "id": "d183f9a5",
   "metadata": {},
   "source": [
    "> It provides a colour fill for each column. When data is provided, the plot is coloured in grey (or your preferred colour), but when data is not present, the plot is white.\n",
    "\n",
    "> As discussed above total shows alot of white space showing the missing values.\n",
    "\n",
    "> Missing values in other columns like humidity and windspeed also exist on the plot, the thiness of the like shows the small number of missing values as compared to total col."
   ]
  },
  {
   "cell_type": "markdown",
   "id": "8dea8293",
   "metadata": {},
   "source": [
    "#### Dendogram"
   ]
  },
  {
   "cell_type": "code",
   "execution_count": 9,
   "id": "56092fcc",
   "metadata": {},
   "outputs": [
    {
     "data": {
      "text/plain": [
       "<AxesSubplot:>"
      ]
     },
     "execution_count": 9,
     "metadata": {},
     "output_type": "execute_result"
    },
    {
     "data": {
      "image/png": "[encoded data removed]",
      "text/plain": [
       "<Figure size 1800x720 with 1 Axes>"
      ]
     },
     "metadata": {
      "needs_background": "light"
     },
     "output_type": "display_data"
    }
   ],
   "source": [
    "msno.dendrogram(df)"
   ]
  },
  {
   "cell_type": "markdown",
   "id": "550f212b",
   "metadata": {},
   "source": [
    "> The dendrogram plot is a tree-like graph formed by hierarchical clustering that groups together columns with high nullity correlations.\n",
    "When a collection of columns is grouped at level zero, the presence or absence of nulls in one of the columns is directly connected to the presence or absence of nulls in the other columns. The more columns in the tree are isolated, the less likely null values will be connected between them.\n",
    "\n",
    ">In this dataset the relation between total datatime and windspeed is seen quite clearly."
   ]
  },
  {
   "cell_type": "markdown",
   "id": "4165f0ba",
   "metadata": {},
   "source": [
    "#### Heatmap "
   ]
  },
  {
   "cell_type": "code",
   "execution_count": 10,
   "id": "c3865c1f",
   "metadata": {},
   "outputs": [
    {
     "data": {
      "text/plain": [
       "<AxesSubplot:>"
      ]
     },
     "execution_count": 10,
     "metadata": {},
     "output_type": "execute_result"
    },
    {
     "data": {
      "image/png": "[encoded data removed]",
      "text/plain": [
       "<Figure size 1440x864 with 2 Axes>"
      ]
     },
     "metadata": {
      "needs_background": "light"
     },
     "output_type": "display_data"
    }
   ],
   "source": [
    "msno.heatmap(df)"
   ]
  },
  {
   "cell_type": "markdown",
   "id": "f0218fc3",
   "metadata": {},
   "source": [
    ">  It is used to see if there is a link between the columns when null values are present.\n",
    "\n",
    "> Values close to negative 1 indicate that the presence of null values in one column is anti-correlated with the presence of null values in another column. In other words, when null values are present in one column, there are data values present in the other column, and vice versa.\n",
    "\n",
    "> There are a number of values that show as <-1. This indicates that the correlation is very close to being 100% negative.\n",
    "\n",
    ">Values close to positive 1 indicate that the presence of null values in one column is correlated with the presence of null values in another column.\n",
    "\n",
    "> Values close to 0, indicate there is little to no relationship between the presence of null values in one column compared to another.\n"
   ]
  },
  {
   "cell_type": "markdown",
   "id": "739caafd",
   "metadata": {},
   "source": [
    ">>>>> Since all the visulization of the data provided, it is clear the column of 'total' have almost 98% of the values missing so we will go ahead and delete/dropthe column."
   ]
  },
  {
   "cell_type": "code",
   "execution_count": 11,
   "id": "fd2b65a8",
   "metadata": {},
   "outputs": [],
   "source": [
    "df = df.drop(\"total\", axis=1)"
   ]
  },
  {
   "cell_type": "code",
   "execution_count": 12,
   "id": "53d8ba7f",
   "metadata": {},
   "outputs": [
    {
     "data": {
      "text/html": [
       "<div>\n",
       "<style scoped>\n",
       "    .dataframe tbody tr th:only-of-type {\n",
       "        vertical-align: middle;\n",
       "    }\n",
       "\n",
       "    .dataframe tbody tr th {\n",
       "        vertical-align: top;\n",
       "    }\n",
       "\n",
       "    .dataframe thead th {\n",
       "        text-align: right;\n",
       "    }\n",
       "</style>\n",
       "<table border=\"1\" class=\"dataframe\">\n",
       "  <thead>\n",
       "    <tr style=\"text-align: right;\">\n",
       "      <th></th>\n",
       "      <th>datetime</th>\n",
       "      <th>season</th>\n",
       "      <th>holiday</th>\n",
       "      <th>workingday</th>\n",
       "      <th>weather</th>\n",
       "      <th>temp</th>\n",
       "      <th>atemp</th>\n",
       "      <th>humidity</th>\n",
       "      <th>windspeed</th>\n",
       "      <th>casual</th>\n",
       "      <th>registered</th>\n",
       "      <th>count</th>\n",
       "      <th>Products</th>\n",
       "    </tr>\n",
       "  </thead>\n",
       "  <tbody>\n",
       "    <tr>\n",
       "      <th>0</th>\n",
       "      <td>1/1/2011 0:00</td>\n",
       "      <td>1.0</td>\n",
       "      <td>0</td>\n",
       "      <td>0.0</td>\n",
       "      <td>1.0</td>\n",
       "      <td>9.84</td>\n",
       "      <td>14.395</td>\n",
       "      <td>81.0</td>\n",
       "      <td>0</td>\n",
       "      <td>3.0</td>\n",
       "      <td>13.0</td>\n",
       "      <td>16</td>\n",
       "      <td>abc</td>\n",
       "    </tr>\n",
       "    <tr>\n",
       "      <th>1</th>\n",
       "      <td>1/1/2011 1:00</td>\n",
       "      <td>1.0</td>\n",
       "      <td>0</td>\n",
       "      <td>0.0</td>\n",
       "      <td>1.0</td>\n",
       "      <td>9.02</td>\n",
       "      <td>13.635</td>\n",
       "      <td>80.0</td>\n",
       "      <td>0</td>\n",
       "      <td>8.0</td>\n",
       "      <td>32.0</td>\n",
       "      <td>40</td>\n",
       "      <td>abc</td>\n",
       "    </tr>\n",
       "    <tr>\n",
       "      <th>2</th>\n",
       "      <td>1/1/2011 2:00</td>\n",
       "      <td>1.0</td>\n",
       "      <td>0</td>\n",
       "      <td>0.0</td>\n",
       "      <td>1.0</td>\n",
       "      <td>9.02</td>\n",
       "      <td>13.635</td>\n",
       "      <td>80.0</td>\n",
       "      <td>0</td>\n",
       "      <td>5.0</td>\n",
       "      <td>27.0</td>\n",
       "      <td>32</td>\n",
       "      <td>abc</td>\n",
       "    </tr>\n",
       "    <tr>\n",
       "      <th>3</th>\n",
       "      <td>1/1/2011 3:00</td>\n",
       "      <td>1.0</td>\n",
       "      <td>0</td>\n",
       "      <td>0.0</td>\n",
       "      <td>1.0</td>\n",
       "      <td>9.84</td>\n",
       "      <td>14.395</td>\n",
       "      <td>75.0</td>\n",
       "      <td>0</td>\n",
       "      <td>3.0</td>\n",
       "      <td>10.0</td>\n",
       "      <td>13</td>\n",
       "      <td>abc</td>\n",
       "    </tr>\n",
       "    <tr>\n",
       "      <th>4</th>\n",
       "      <td>1/1/2011 4:00</td>\n",
       "      <td>1.0</td>\n",
       "      <td>0</td>\n",
       "      <td>0.0</td>\n",
       "      <td>1.0</td>\n",
       "      <td>9.84</td>\n",
       "      <td>14.395</td>\n",
       "      <td>75.0</td>\n",
       "      <td>0</td>\n",
       "      <td>0.0</td>\n",
       "      <td>1.0</td>\n",
       "      <td>1</td>\n",
       "      <td>abc</td>\n",
       "    </tr>\n",
       "  </tbody>\n",
       "</table>\n",
       "</div>"
      ],
      "text/plain": [
       "        datetime  season holiday  workingday  weather  temp   atemp  humidity  \\\n",
       "0  1/1/2011 0:00     1.0       0         0.0      1.0  9.84  14.395      81.0   \n",
       "1  1/1/2011 1:00     1.0       0         0.0      1.0  9.02  13.635      80.0   \n",
       "2  1/1/2011 2:00     1.0       0         0.0      1.0  9.02  13.635      80.0   \n",
       "3  1/1/2011 3:00     1.0       0         0.0      1.0  9.84  14.395      75.0   \n",
       "4  1/1/2011 4:00     1.0       0         0.0      1.0  9.84  14.395      75.0   \n",
       "\n",
       "  windspeed  casual  registered count Products  \n",
       "0         0     3.0        13.0    16      abc  \n",
       "1         0     8.0        32.0    40      abc  \n",
       "2         0     5.0        27.0    32      abc  \n",
       "3         0     3.0        10.0    13      abc  \n",
       "4         0     0.0         1.0     1      abc  "
      ]
     },
     "execution_count": 12,
     "metadata": {},
     "output_type": "execute_result"
    }
   ],
   "source": [
    "df.head()"
   ]
  },
  {
   "cell_type": "code",
   "execution_count": 13,
   "id": "91530886",
   "metadata": {},
   "outputs": [
    {
     "data": {
      "text/plain": [
       "datetime       object\n",
       "season        float64\n",
       "holiday        object\n",
       "workingday    float64\n",
       "weather       float64\n",
       "temp          float64\n",
       "atemp         float64\n",
       "humidity      float64\n",
       "windspeed      object\n",
       "casual        float64\n",
       "registered    float64\n",
       "count          object\n",
       "Products       object\n",
       "dtype: object"
      ]
     },
     "execution_count": 13,
     "metadata": {},
     "output_type": "execute_result"
    }
   ],
   "source": [
    "df.dtypes\n"
   ]
  },
  {
   "cell_type": "code",
   "execution_count": 14,
   "id": "d35e4225",
   "metadata": {
    "scrolled": true
   },
   "outputs": [
    {
     "data": {
      "text/html": [
       "<div>\n",
       "<style scoped>\n",
       "    .dataframe tbody tr th:only-of-type {\n",
       "        vertical-align: middle;\n",
       "    }\n",
       "\n",
       "    .dataframe tbody tr th {\n",
       "        vertical-align: top;\n",
       "    }\n",
       "\n",
       "    .dataframe thead th {\n",
       "        text-align: right;\n",
       "    }\n",
       "</style>\n",
       "<table border=\"1\" class=\"dataframe\">\n",
       "  <thead>\n",
       "    <tr style=\"text-align: right;\">\n",
       "      <th></th>\n",
       "      <th>datetime</th>\n",
       "      <th>season</th>\n",
       "      <th>holiday</th>\n",
       "      <th>workingday</th>\n",
       "      <th>weather</th>\n",
       "      <th>temp</th>\n",
       "      <th>atemp</th>\n",
       "      <th>humidity</th>\n",
       "      <th>windspeed</th>\n",
       "      <th>casual</th>\n",
       "      <th>registered</th>\n",
       "      <th>count</th>\n",
       "      <th>Products</th>\n",
       "    </tr>\n",
       "  </thead>\n",
       "  <tbody>\n",
       "    <tr>\n",
       "      <th>10881</th>\n",
       "      <td>12/19/2012 19:00</td>\n",
       "      <td>NaN</td>\n",
       "      <td>NaN</td>\n",
       "      <td>NaN</td>\n",
       "      <td>NaN</td>\n",
       "      <td>NaN</td>\n",
       "      <td>NaN</td>\n",
       "      <td>NaN</td>\n",
       "      <td>NaN</td>\n",
       "      <td>NaN</td>\n",
       "      <td>NaN</td>\n",
       "      <td>NaN</td>\n",
       "      <td>NaN</td>\n",
       "    </tr>\n",
       "    <tr>\n",
       "      <th>10882</th>\n",
       "      <td>12/19/2012 20:00</td>\n",
       "      <td>NaN</td>\n",
       "      <td>NaN</td>\n",
       "      <td>NaN</td>\n",
       "      <td>NaN</td>\n",
       "      <td>NaN</td>\n",
       "      <td>NaN</td>\n",
       "      <td>NaN</td>\n",
       "      <td>NaN</td>\n",
       "      <td>NaN</td>\n",
       "      <td>NaN</td>\n",
       "      <td>NaN</td>\n",
       "      <td>NaN</td>\n",
       "    </tr>\n",
       "    <tr>\n",
       "      <th>10883</th>\n",
       "      <td>12/19/2012 21:00</td>\n",
       "      <td>NaN</td>\n",
       "      <td>NaN</td>\n",
       "      <td>NaN</td>\n",
       "      <td>NaN</td>\n",
       "      <td>NaN</td>\n",
       "      <td>NaN</td>\n",
       "      <td>NaN</td>\n",
       "      <td>NaN</td>\n",
       "      <td>NaN</td>\n",
       "      <td>NaN</td>\n",
       "      <td>NaN</td>\n",
       "      <td>NaN</td>\n",
       "    </tr>\n",
       "    <tr>\n",
       "      <th>10884</th>\n",
       "      <td>12/19/2012 22:00</td>\n",
       "      <td>NaN</td>\n",
       "      <td>NaN</td>\n",
       "      <td>NaN</td>\n",
       "      <td>NaN</td>\n",
       "      <td>NaN</td>\n",
       "      <td>NaN</td>\n",
       "      <td>NaN</td>\n",
       "      <td>NaN</td>\n",
       "      <td>NaN</td>\n",
       "      <td>NaN</td>\n",
       "      <td>NaN</td>\n",
       "      <td>NaN</td>\n",
       "    </tr>\n",
       "    <tr>\n",
       "      <th>10885</th>\n",
       "      <td>12/19/2012 23:00</td>\n",
       "      <td>NaN</td>\n",
       "      <td>NaN</td>\n",
       "      <td>NaN</td>\n",
       "      <td>NaN</td>\n",
       "      <td>NaN</td>\n",
       "      <td>NaN</td>\n",
       "      <td>NaN</td>\n",
       "      <td>NaN</td>\n",
       "      <td>NaN</td>\n",
       "      <td>NaN</td>\n",
       "      <td>NaN</td>\n",
       "      <td>NaN</td>\n",
       "    </tr>\n",
       "  </tbody>\n",
       "</table>\n",
       "</div>"
      ],
      "text/plain": [
       "               datetime  season holiday  workingday  weather  temp  atemp  \\\n",
       "10881  12/19/2012 19:00     NaN     NaN         NaN      NaN   NaN    NaN   \n",
       "10882  12/19/2012 20:00     NaN     NaN         NaN      NaN   NaN    NaN   \n",
       "10883  12/19/2012 21:00     NaN     NaN         NaN      NaN   NaN    NaN   \n",
       "10884  12/19/2012 22:00     NaN     NaN         NaN      NaN   NaN    NaN   \n",
       "10885  12/19/2012 23:00     NaN     NaN         NaN      NaN   NaN    NaN   \n",
       "\n",
       "       humidity windspeed  casual  registered count Products  \n",
       "10881       NaN       NaN     NaN         NaN   NaN      NaN  \n",
       "10882       NaN       NaN     NaN         NaN   NaN      NaN  \n",
       "10883       NaN       NaN     NaN         NaN   NaN      NaN  \n",
       "10884       NaN       NaN     NaN         NaN   NaN      NaN  \n",
       "10885       NaN       NaN     NaN         NaN   NaN      NaN  "
      ]
     },
     "execution_count": 14,
     "metadata": {},
     "output_type": "execute_result"
    }
   ],
   "source": [
    "df.tail()"
   ]
  },
  {
   "cell_type": "markdown",
   "id": "9a1549a9",
   "metadata": {},
   "source": [
    "> This shows that most of the ending rows have all the values as nan.\n",
    "\n",
    "> As most attributes other than datetime are missing we can easily remove the data."
   ]
  },
  {
   "cell_type": "code",
   "execution_count": 15,
   "id": "9c1ad6b7",
   "metadata": {},
   "outputs": [
    {
     "data": {
      "text/html": [
       "<div>\n",
       "<style scoped>\n",
       "    .dataframe tbody tr th:only-of-type {\n",
       "        vertical-align: middle;\n",
       "    }\n",
       "\n",
       "    .dataframe tbody tr th {\n",
       "        vertical-align: top;\n",
       "    }\n",
       "\n",
       "    .dataframe thead th {\n",
       "        text-align: right;\n",
       "    }\n",
       "</style>\n",
       "<table border=\"1\" class=\"dataframe\">\n",
       "  <thead>\n",
       "    <tr style=\"text-align: right;\">\n",
       "      <th></th>\n",
       "      <th>datetime</th>\n",
       "      <th>season</th>\n",
       "      <th>holiday</th>\n",
       "      <th>workingday</th>\n",
       "      <th>weather</th>\n",
       "      <th>temp</th>\n",
       "      <th>atemp</th>\n",
       "      <th>humidity</th>\n",
       "      <th>windspeed</th>\n",
       "      <th>casual</th>\n",
       "      <th>registered</th>\n",
       "      <th>count</th>\n",
       "      <th>Products</th>\n",
       "    </tr>\n",
       "  </thead>\n",
       "  <tbody>\n",
       "    <tr>\n",
       "      <th>0</th>\n",
       "      <td>1/1/2011 0:00</td>\n",
       "      <td>1.0</td>\n",
       "      <td>0</td>\n",
       "      <td>0.0</td>\n",
       "      <td>1.0</td>\n",
       "      <td>9.84</td>\n",
       "      <td>14.395</td>\n",
       "      <td>81.0</td>\n",
       "      <td>0</td>\n",
       "      <td>3.0</td>\n",
       "      <td>13.0</td>\n",
       "      <td>16</td>\n",
       "      <td>abc</td>\n",
       "    </tr>\n",
       "    <tr>\n",
       "      <th>1</th>\n",
       "      <td>1/1/2011 1:00</td>\n",
       "      <td>1.0</td>\n",
       "      <td>0</td>\n",
       "      <td>0.0</td>\n",
       "      <td>1.0</td>\n",
       "      <td>9.02</td>\n",
       "      <td>13.635</td>\n",
       "      <td>80.0</td>\n",
       "      <td>0</td>\n",
       "      <td>8.0</td>\n",
       "      <td>32.0</td>\n",
       "      <td>40</td>\n",
       "      <td>abc</td>\n",
       "    </tr>\n",
       "    <tr>\n",
       "      <th>2</th>\n",
       "      <td>1/1/2011 2:00</td>\n",
       "      <td>1.0</td>\n",
       "      <td>0</td>\n",
       "      <td>0.0</td>\n",
       "      <td>1.0</td>\n",
       "      <td>9.02</td>\n",
       "      <td>13.635</td>\n",
       "      <td>80.0</td>\n",
       "      <td>0</td>\n",
       "      <td>5.0</td>\n",
       "      <td>27.0</td>\n",
       "      <td>32</td>\n",
       "      <td>abc</td>\n",
       "    </tr>\n",
       "    <tr>\n",
       "      <th>3</th>\n",
       "      <td>1/1/2011 3:00</td>\n",
       "      <td>1.0</td>\n",
       "      <td>0</td>\n",
       "      <td>0.0</td>\n",
       "      <td>1.0</td>\n",
       "      <td>9.84</td>\n",
       "      <td>14.395</td>\n",
       "      <td>75.0</td>\n",
       "      <td>0</td>\n",
       "      <td>3.0</td>\n",
       "      <td>10.0</td>\n",
       "      <td>13</td>\n",
       "      <td>abc</td>\n",
       "    </tr>\n",
       "    <tr>\n",
       "      <th>4</th>\n",
       "      <td>1/1/2011 4:00</td>\n",
       "      <td>1.0</td>\n",
       "      <td>0</td>\n",
       "      <td>0.0</td>\n",
       "      <td>1.0</td>\n",
       "      <td>9.84</td>\n",
       "      <td>14.395</td>\n",
       "      <td>75.0</td>\n",
       "      <td>0</td>\n",
       "      <td>0.0</td>\n",
       "      <td>1.0</td>\n",
       "      <td>1</td>\n",
       "      <td>abc</td>\n",
       "    </tr>\n",
       "    <tr>\n",
       "      <th>...</th>\n",
       "      <td>...</td>\n",
       "      <td>...</td>\n",
       "      <td>...</td>\n",
       "      <td>...</td>\n",
       "      <td>...</td>\n",
       "      <td>...</td>\n",
       "      <td>...</td>\n",
       "      <td>...</td>\n",
       "      <td>...</td>\n",
       "      <td>...</td>\n",
       "      <td>...</td>\n",
       "      <td>...</td>\n",
       "      <td>...</td>\n",
       "    </tr>\n",
       "    <tr>\n",
       "      <th>10874</th>\n",
       "      <td>12/19/2012 12:00</td>\n",
       "      <td>4.0</td>\n",
       "      <td>0</td>\n",
       "      <td>1.0</td>\n",
       "      <td>1.0</td>\n",
       "      <td>16.40</td>\n",
       "      <td>20.455</td>\n",
       "      <td>54.0</td>\n",
       "      <td>19.0012</td>\n",
       "      <td>33.0</td>\n",
       "      <td>203.0</td>\n",
       "      <td>236</td>\n",
       "      <td>stu</td>\n",
       "    </tr>\n",
       "    <tr>\n",
       "      <th>10875</th>\n",
       "      <td>12/19/2012 13:00</td>\n",
       "      <td>4.0</td>\n",
       "      <td>0</td>\n",
       "      <td>1.0</td>\n",
       "      <td>1.0</td>\n",
       "      <td>17.22</td>\n",
       "      <td>21.210</td>\n",
       "      <td>50.0</td>\n",
       "      <td>12.998</td>\n",
       "      <td>30.0</td>\n",
       "      <td>183.0</td>\n",
       "      <td>213</td>\n",
       "      <td>stu</td>\n",
       "    </tr>\n",
       "    <tr>\n",
       "      <th>10876</th>\n",
       "      <td>12/19/2012 14:00</td>\n",
       "      <td>4.0</td>\n",
       "      <td>0</td>\n",
       "      <td>1.0</td>\n",
       "      <td>1.0</td>\n",
       "      <td>17.22</td>\n",
       "      <td>21.210</td>\n",
       "      <td>50.0</td>\n",
       "      <td>12.998</td>\n",
       "      <td>33.0</td>\n",
       "      <td>185.0</td>\n",
       "      <td>218</td>\n",
       "      <td>stu</td>\n",
       "    </tr>\n",
       "    <tr>\n",
       "      <th>10877</th>\n",
       "      <td>12/19/2012 15:00</td>\n",
       "      <td>4.0</td>\n",
       "      <td>0</td>\n",
       "      <td>1.0</td>\n",
       "      <td>1.0</td>\n",
       "      <td>17.22</td>\n",
       "      <td>21.210</td>\n",
       "      <td>50.0</td>\n",
       "      <td>19.0012</td>\n",
       "      <td>28.0</td>\n",
       "      <td>209.0</td>\n",
       "      <td>237</td>\n",
       "      <td>stu</td>\n",
       "    </tr>\n",
       "    <tr>\n",
       "      <th>10878</th>\n",
       "      <td>12/19/2012 16:00</td>\n",
       "      <td>4.0</td>\n",
       "      <td>0</td>\n",
       "      <td>1.0</td>\n",
       "      <td>1.0</td>\n",
       "      <td>17.22</td>\n",
       "      <td>21.210</td>\n",
       "      <td>50.0</td>\n",
       "      <td>23.9994</td>\n",
       "      <td>37.0</td>\n",
       "      <td>297.0</td>\n",
       "      <td>334</td>\n",
       "      <td>stu</td>\n",
       "    </tr>\n",
       "  </tbody>\n",
       "</table>\n",
       "<p>10873 rows × 13 columns</p>\n",
       "</div>"
      ],
      "text/plain": [
       "               datetime  season holiday  workingday  weather   temp   atemp  \\\n",
       "0         1/1/2011 0:00     1.0       0         0.0      1.0   9.84  14.395   \n",
       "1         1/1/2011 1:00     1.0       0         0.0      1.0   9.02  13.635   \n",
       "2         1/1/2011 2:00     1.0       0         0.0      1.0   9.02  13.635   \n",
       "3         1/1/2011 3:00     1.0       0         0.0      1.0   9.84  14.395   \n",
       "4         1/1/2011 4:00     1.0       0         0.0      1.0   9.84  14.395   \n",
       "...                 ...     ...     ...         ...      ...    ...     ...   \n",
       "10874  12/19/2012 12:00     4.0       0         1.0      1.0  16.40  20.455   \n",
       "10875  12/19/2012 13:00     4.0       0         1.0      1.0  17.22  21.210   \n",
       "10876  12/19/2012 14:00     4.0       0         1.0      1.0  17.22  21.210   \n",
       "10877  12/19/2012 15:00     4.0       0         1.0      1.0  17.22  21.210   \n",
       "10878  12/19/2012 16:00     4.0       0         1.0      1.0  17.22  21.210   \n",
       "\n",
       "       humidity windspeed  casual  registered count Products  \n",
       "0          81.0         0     3.0        13.0    16      abc  \n",
       "1          80.0         0     8.0        32.0    40      abc  \n",
       "2          80.0         0     5.0        27.0    32      abc  \n",
       "3          75.0         0     3.0        10.0    13      abc  \n",
       "4          75.0         0     0.0         1.0     1      abc  \n",
       "...         ...       ...     ...         ...   ...      ...  \n",
       "10874      54.0   19.0012    33.0       203.0   236      stu  \n",
       "10875      50.0    12.998    30.0       183.0   213      stu  \n",
       "10876      50.0    12.998    33.0       185.0   218      stu  \n",
       "10877      50.0   19.0012    28.0       209.0   237      stu  \n",
       "10878      50.0   23.9994    37.0       297.0   334      stu  \n",
       "\n",
       "[10873 rows x 13 columns]"
      ]
     },
     "execution_count": 15,
     "metadata": {},
     "output_type": "execute_result"
    }
   ],
   "source": [
    "df = df.dropna(thresh=12)\n",
    "df"
   ]
  },
  {
   "cell_type": "code",
   "execution_count": 16,
   "id": "795b0345",
   "metadata": {},
   "outputs": [
    {
     "data": {
      "text/plain": [
       "datetime      4\n",
       "season        2\n",
       "holiday       0\n",
       "workingday    0\n",
       "weather       0\n",
       "temp          2\n",
       "atemp         0\n",
       "humidity      4\n",
       "windspeed     2\n",
       "casual        0\n",
       "registered    0\n",
       "count         1\n",
       "Products      0\n",
       "dtype: int64"
      ]
     },
     "execution_count": 16,
     "metadata": {},
     "output_type": "execute_result"
    }
   ],
   "source": [
    "df.isna().sum()"
   ]
  },
  {
   "cell_type": "markdown",
   "id": "723680e9",
   "metadata": {},
   "source": [
    ">> As shown above the last values in the tail of the dataset where all the columns except datetime are nan we remove these rows by using thresh=n \n",
    "\n",
    "> here n stands for the number of columns that should have nan in a row , or simply number of times a row have NaN, meaning it will remove all such rows, having n numbers in this case 12 Nan value in a row.\n",
    "\n",
    "> And as we can see the total number of null display shows a decrease in the numbers."
   ]
  },
  {
   "cell_type": "code",
   "execution_count": 17,
   "id": "9fea6a61",
   "metadata": {},
   "outputs": [
    {
     "name": "stdout",
     "output_type": "stream",
     "text": [
      "<class 'pandas.core.frame.DataFrame'>\n",
      "Int64Index: 10873 entries, 0 to 10878\n",
      "Data columns (total 13 columns):\n",
      " #   Column      Non-Null Count  Dtype  \n",
      "---  ------      --------------  -----  \n",
      " 0   datetime    10869 non-null  object \n",
      " 1   season      10871 non-null  float64\n",
      " 2   holiday     10873 non-null  object \n",
      " 3   workingday  10873 non-null  float64\n",
      " 4   weather     10873 non-null  float64\n",
      " 5   temp        10871 non-null  float64\n",
      " 6   atemp       10873 non-null  float64\n",
      " 7   humidity    10869 non-null  float64\n",
      " 8   windspeed   10871 non-null  object \n",
      " 9   casual      10873 non-null  float64\n",
      " 10  registered  10873 non-null  float64\n",
      " 11  count       10872 non-null  object \n",
      " 12  Products    10873 non-null  object \n",
      "dtypes: float64(8), object(5)\n",
      "memory usage: 1.2+ MB\n"
     ]
    }
   ],
   "source": [
    "df.info()"
   ]
  },
  {
   "cell_type": "markdown",
   "id": "e818fb76",
   "metadata": {},
   "source": [
    "> Through our analysis above we known the columns missing the values and we will use techniques like interpolation, replacing by mode or median or other such techniques to fill the nan values in the data."
   ]
  },
  {
   "cell_type": "code",
   "execution_count": 18,
   "id": "71f39e17",
   "metadata": {},
   "outputs": [
    {
     "data": {
      "text/plain": [
       "3.0    2733\n",
       "2.0    2731\n",
       "4.0    2727\n",
       "1.0    2680\n",
       "Name: season, dtype: int64"
      ]
     },
     "execution_count": 18,
     "metadata": {},
     "output_type": "execute_result"
    }
   ],
   "source": [
    "df['season'].value_counts()\n"
   ]
  },
  {
   "cell_type": "code",
   "execution_count": 19,
   "id": "96fc6660",
   "metadata": {},
   "outputs": [
    {
     "data": {
      "text/html": [
       "<div>\n",
       "<style scoped>\n",
       "    .dataframe tbody tr th:only-of-type {\n",
       "        vertical-align: middle;\n",
       "    }\n",
       "\n",
       "    .dataframe tbody tr th {\n",
       "        vertical-align: top;\n",
       "    }\n",
       "\n",
       "    .dataframe thead th {\n",
       "        text-align: right;\n",
       "    }\n",
       "</style>\n",
       "<table border=\"1\" class=\"dataframe\">\n",
       "  <thead>\n",
       "    <tr style=\"text-align: right;\">\n",
       "      <th></th>\n",
       "      <th>datetime</th>\n",
       "      <th>season</th>\n",
       "      <th>holiday</th>\n",
       "      <th>workingday</th>\n",
       "      <th>weather</th>\n",
       "      <th>temp</th>\n",
       "      <th>atemp</th>\n",
       "      <th>humidity</th>\n",
       "      <th>windspeed</th>\n",
       "      <th>casual</th>\n",
       "      <th>registered</th>\n",
       "      <th>count</th>\n",
       "      <th>Products</th>\n",
       "    </tr>\n",
       "  </thead>\n",
       "  <tbody>\n",
       "    <tr>\n",
       "      <th>0</th>\n",
       "      <td>1/1/2011 0:00</td>\n",
       "      <td>1.0</td>\n",
       "      <td>0</td>\n",
       "      <td>0.0</td>\n",
       "      <td>1.0</td>\n",
       "      <td>9.84</td>\n",
       "      <td>14.395</td>\n",
       "      <td>81.0</td>\n",
       "      <td>0</td>\n",
       "      <td>3.0</td>\n",
       "      <td>13.0</td>\n",
       "      <td>16</td>\n",
       "      <td>abc</td>\n",
       "    </tr>\n",
       "    <tr>\n",
       "      <th>1</th>\n",
       "      <td>1/1/2011 1:00</td>\n",
       "      <td>1.0</td>\n",
       "      <td>0</td>\n",
       "      <td>0.0</td>\n",
       "      <td>1.0</td>\n",
       "      <td>9.02</td>\n",
       "      <td>13.635</td>\n",
       "      <td>80.0</td>\n",
       "      <td>0</td>\n",
       "      <td>8.0</td>\n",
       "      <td>32.0</td>\n",
       "      <td>40</td>\n",
       "      <td>abc</td>\n",
       "    </tr>\n",
       "    <tr>\n",
       "      <th>2</th>\n",
       "      <td>1/1/2011 2:00</td>\n",
       "      <td>1.0</td>\n",
       "      <td>0</td>\n",
       "      <td>0.0</td>\n",
       "      <td>1.0</td>\n",
       "      <td>9.02</td>\n",
       "      <td>13.635</td>\n",
       "      <td>80.0</td>\n",
       "      <td>0</td>\n",
       "      <td>5.0</td>\n",
       "      <td>27.0</td>\n",
       "      <td>32</td>\n",
       "      <td>abc</td>\n",
       "    </tr>\n",
       "    <tr>\n",
       "      <th>3</th>\n",
       "      <td>1/1/2011 3:00</td>\n",
       "      <td>1.0</td>\n",
       "      <td>0</td>\n",
       "      <td>0.0</td>\n",
       "      <td>1.0</td>\n",
       "      <td>9.84</td>\n",
       "      <td>14.395</td>\n",
       "      <td>75.0</td>\n",
       "      <td>0</td>\n",
       "      <td>3.0</td>\n",
       "      <td>10.0</td>\n",
       "      <td>13</td>\n",
       "      <td>abc</td>\n",
       "    </tr>\n",
       "    <tr>\n",
       "      <th>4</th>\n",
       "      <td>1/1/2011 4:00</td>\n",
       "      <td>1.0</td>\n",
       "      <td>0</td>\n",
       "      <td>0.0</td>\n",
       "      <td>1.0</td>\n",
       "      <td>9.84</td>\n",
       "      <td>14.395</td>\n",
       "      <td>75.0</td>\n",
       "      <td>0</td>\n",
       "      <td>0.0</td>\n",
       "      <td>1.0</td>\n",
       "      <td>1</td>\n",
       "      <td>abc</td>\n",
       "    </tr>\n",
       "    <tr>\n",
       "      <th>...</th>\n",
       "      <td>...</td>\n",
       "      <td>...</td>\n",
       "      <td>...</td>\n",
       "      <td>...</td>\n",
       "      <td>...</td>\n",
       "      <td>...</td>\n",
       "      <td>...</td>\n",
       "      <td>...</td>\n",
       "      <td>...</td>\n",
       "      <td>...</td>\n",
       "      <td>...</td>\n",
       "      <td>...</td>\n",
       "      <td>...</td>\n",
       "    </tr>\n",
       "    <tr>\n",
       "      <th>10874</th>\n",
       "      <td>12/19/2012 12:00</td>\n",
       "      <td>4.0</td>\n",
       "      <td>0</td>\n",
       "      <td>1.0</td>\n",
       "      <td>1.0</td>\n",
       "      <td>16.40</td>\n",
       "      <td>20.455</td>\n",
       "      <td>54.0</td>\n",
       "      <td>19.0012</td>\n",
       "      <td>33.0</td>\n",
       "      <td>203.0</td>\n",
       "      <td>236</td>\n",
       "      <td>stu</td>\n",
       "    </tr>\n",
       "    <tr>\n",
       "      <th>10875</th>\n",
       "      <td>12/19/2012 13:00</td>\n",
       "      <td>4.0</td>\n",
       "      <td>0</td>\n",
       "      <td>1.0</td>\n",
       "      <td>1.0</td>\n",
       "      <td>17.22</td>\n",
       "      <td>21.210</td>\n",
       "      <td>50.0</td>\n",
       "      <td>12.998</td>\n",
       "      <td>30.0</td>\n",
       "      <td>183.0</td>\n",
       "      <td>213</td>\n",
       "      <td>stu</td>\n",
       "    </tr>\n",
       "    <tr>\n",
       "      <th>10876</th>\n",
       "      <td>12/19/2012 14:00</td>\n",
       "      <td>4.0</td>\n",
       "      <td>0</td>\n",
       "      <td>1.0</td>\n",
       "      <td>1.0</td>\n",
       "      <td>17.22</td>\n",
       "      <td>21.210</td>\n",
       "      <td>50.0</td>\n",
       "      <td>12.998</td>\n",
       "      <td>33.0</td>\n",
       "      <td>185.0</td>\n",
       "      <td>218</td>\n",
       "      <td>stu</td>\n",
       "    </tr>\n",
       "    <tr>\n",
       "      <th>10877</th>\n",
       "      <td>12/19/2012 15:00</td>\n",
       "      <td>4.0</td>\n",
       "      <td>0</td>\n",
       "      <td>1.0</td>\n",
       "      <td>1.0</td>\n",
       "      <td>17.22</td>\n",
       "      <td>21.210</td>\n",
       "      <td>50.0</td>\n",
       "      <td>19.0012</td>\n",
       "      <td>28.0</td>\n",
       "      <td>209.0</td>\n",
       "      <td>237</td>\n",
       "      <td>stu</td>\n",
       "    </tr>\n",
       "    <tr>\n",
       "      <th>10878</th>\n",
       "      <td>12/19/2012 16:00</td>\n",
       "      <td>4.0</td>\n",
       "      <td>0</td>\n",
       "      <td>1.0</td>\n",
       "      <td>1.0</td>\n",
       "      <td>17.22</td>\n",
       "      <td>21.210</td>\n",
       "      <td>50.0</td>\n",
       "      <td>23.9994</td>\n",
       "      <td>37.0</td>\n",
       "      <td>297.0</td>\n",
       "      <td>334</td>\n",
       "      <td>stu</td>\n",
       "    </tr>\n",
       "  </tbody>\n",
       "</table>\n",
       "<p>10873 rows × 13 columns</p>\n",
       "</div>"
      ],
      "text/plain": [
       "               datetime  season holiday  workingday  weather   temp   atemp  \\\n",
       "0         1/1/2011 0:00     1.0       0         0.0      1.0   9.84  14.395   \n",
       "1         1/1/2011 1:00     1.0       0         0.0      1.0   9.02  13.635   \n",
       "2         1/1/2011 2:00     1.0       0         0.0      1.0   9.02  13.635   \n",
       "3         1/1/2011 3:00     1.0       0         0.0      1.0   9.84  14.395   \n",
       "4         1/1/2011 4:00     1.0       0         0.0      1.0   9.84  14.395   \n",
       "...                 ...     ...     ...         ...      ...    ...     ...   \n",
       "10874  12/19/2012 12:00     4.0       0         1.0      1.0  16.40  20.455   \n",
       "10875  12/19/2012 13:00     4.0       0         1.0      1.0  17.22  21.210   \n",
       "10876  12/19/2012 14:00     4.0       0         1.0      1.0  17.22  21.210   \n",
       "10877  12/19/2012 15:00     4.0       0         1.0      1.0  17.22  21.210   \n",
       "10878  12/19/2012 16:00     4.0       0         1.0      1.0  17.22  21.210   \n",
       "\n",
       "       humidity windspeed  casual  registered count Products  \n",
       "0          81.0         0     3.0        13.0    16      abc  \n",
       "1          80.0         0     8.0        32.0    40      abc  \n",
       "2          80.0         0     5.0        27.0    32      abc  \n",
       "3          75.0         0     3.0        10.0    13      abc  \n",
       "4          75.0         0     0.0         1.0     1      abc  \n",
       "...         ...       ...     ...         ...   ...      ...  \n",
       "10874      54.0   19.0012    33.0       203.0   236      stu  \n",
       "10875      50.0    12.998    30.0       183.0   213      stu  \n",
       "10876      50.0    12.998    33.0       185.0   218      stu  \n",
       "10877      50.0   19.0012    28.0       209.0   237      stu  \n",
       "10878      50.0   23.9994    37.0       297.0   334      stu  \n",
       "\n",
       "[10873 rows x 13 columns]"
      ]
     },
     "execution_count": 19,
     "metadata": {},
     "output_type": "execute_result"
    }
   ],
   "source": [
    "df"
   ]
  },
  {
   "cell_type": "code",
   "execution_count": 20,
   "id": "85eb6ab7",
   "metadata": {},
   "outputs": [],
   "source": [
    "mode_col=df['season'].mode()[0]\n",
    "##def replace_by_mode(df):\n",
    "  ##  for column in df:\n",
    "    ##    df[column].fillna(df[column].mode()[0], inplace=True)"
   ]
  },
  {
   "cell_type": "code",
   "execution_count": 21,
   "id": "48a67aca",
   "metadata": {},
   "outputs": [
    {
     "name": "stdout",
     "output_type": "stream",
     "text": [
      "3.0\n"
     ]
    }
   ],
   "source": [
    "print(mode_col)"
   ]
  },
  {
   "cell_type": "code",
   "execution_count": 22,
   "id": "5b7426c9",
   "metadata": {},
   "outputs": [],
   "source": [
    "df['season'] = df['season'].fillna(mode_col)"
   ]
  },
  {
   "cell_type": "markdown",
   "id": "4cc1cee0",
   "metadata": {},
   "source": [
    ">> The season column have four type of values 1, 2, 3,and 4 we see the most recurssive value that is find the mode of the column as shown above the method can also be used for replacing the values but here since only one column needs the operation we will just write the command and replace the two empty position of season column with the mode."
   ]
  },
  {
   "cell_type": "code",
   "execution_count": null,
   "id": "50d42272",
   "metadata": {},
   "outputs": [],
   "source": []
  },
  {
   "cell_type": "code",
   "execution_count": null,
   "id": "34506512",
   "metadata": {},
   "outputs": [],
   "source": []
  },
  {
   "cell_type": "code",
   "execution_count": 23,
   "id": "5c8d7bf0",
   "metadata": {},
   "outputs": [
    {
     "data": {
      "text/plain": [
       "datetime      4\n",
       "season        0\n",
       "holiday       0\n",
       "workingday    0\n",
       "weather       0\n",
       "temp          2\n",
       "atemp         0\n",
       "humidity      4\n",
       "windspeed     2\n",
       "casual        0\n",
       "registered    0\n",
       "count         1\n",
       "Products      0\n",
       "dtype: int64"
      ]
     },
     "execution_count": 23,
     "metadata": {},
     "output_type": "execute_result"
    }
   ],
   "source": [
    "df.isna().sum()"
   ]
  },
  {
   "cell_type": "code",
   "execution_count": 24,
   "id": "a583ad78",
   "metadata": {},
   "outputs": [
    {
     "data": {
      "text/html": [
       "<div>\n",
       "<style scoped>\n",
       "    .dataframe tbody tr th:only-of-type {\n",
       "        vertical-align: middle;\n",
       "    }\n",
       "\n",
       "    .dataframe tbody tr th {\n",
       "        vertical-align: top;\n",
       "    }\n",
       "\n",
       "    .dataframe thead th {\n",
       "        text-align: right;\n",
       "    }\n",
       "</style>\n",
       "<table border=\"1\" class=\"dataframe\">\n",
       "  <thead>\n",
       "    <tr style=\"text-align: right;\">\n",
       "      <th></th>\n",
       "      <th>datetime</th>\n",
       "      <th>season</th>\n",
       "      <th>holiday</th>\n",
       "      <th>workingday</th>\n",
       "      <th>weather</th>\n",
       "      <th>temp</th>\n",
       "      <th>atemp</th>\n",
       "      <th>humidity</th>\n",
       "      <th>windspeed</th>\n",
       "      <th>casual</th>\n",
       "      <th>registered</th>\n",
       "      <th>count</th>\n",
       "      <th>Products</th>\n",
       "    </tr>\n",
       "  </thead>\n",
       "  <tbody>\n",
       "    <tr>\n",
       "      <th>0</th>\n",
       "      <td>1/1/2011 0:00</td>\n",
       "      <td>1.0</td>\n",
       "      <td>0</td>\n",
       "      <td>0.0</td>\n",
       "      <td>1.0</td>\n",
       "      <td>9.84</td>\n",
       "      <td>14.395</td>\n",
       "      <td>81.0</td>\n",
       "      <td>0</td>\n",
       "      <td>3.0</td>\n",
       "      <td>13.0</td>\n",
       "      <td>16</td>\n",
       "      <td>abc</td>\n",
       "    </tr>\n",
       "    <tr>\n",
       "      <th>1</th>\n",
       "      <td>1/1/2011 1:00</td>\n",
       "      <td>1.0</td>\n",
       "      <td>0</td>\n",
       "      <td>0.0</td>\n",
       "      <td>1.0</td>\n",
       "      <td>9.02</td>\n",
       "      <td>13.635</td>\n",
       "      <td>80.0</td>\n",
       "      <td>0</td>\n",
       "      <td>8.0</td>\n",
       "      <td>32.0</td>\n",
       "      <td>40</td>\n",
       "      <td>abc</td>\n",
       "    </tr>\n",
       "    <tr>\n",
       "      <th>2</th>\n",
       "      <td>1/1/2011 2:00</td>\n",
       "      <td>1.0</td>\n",
       "      <td>0</td>\n",
       "      <td>0.0</td>\n",
       "      <td>1.0</td>\n",
       "      <td>9.02</td>\n",
       "      <td>13.635</td>\n",
       "      <td>80.0</td>\n",
       "      <td>0</td>\n",
       "      <td>5.0</td>\n",
       "      <td>27.0</td>\n",
       "      <td>32</td>\n",
       "      <td>abc</td>\n",
       "    </tr>\n",
       "    <tr>\n",
       "      <th>3</th>\n",
       "      <td>1/1/2011 3:00</td>\n",
       "      <td>1.0</td>\n",
       "      <td>0</td>\n",
       "      <td>0.0</td>\n",
       "      <td>1.0</td>\n",
       "      <td>9.84</td>\n",
       "      <td>14.395</td>\n",
       "      <td>75.0</td>\n",
       "      <td>0</td>\n",
       "      <td>3.0</td>\n",
       "      <td>10.0</td>\n",
       "      <td>13</td>\n",
       "      <td>abc</td>\n",
       "    </tr>\n",
       "    <tr>\n",
       "      <th>4</th>\n",
       "      <td>1/1/2011 4:00</td>\n",
       "      <td>1.0</td>\n",
       "      <td>0</td>\n",
       "      <td>0.0</td>\n",
       "      <td>1.0</td>\n",
       "      <td>9.84</td>\n",
       "      <td>14.395</td>\n",
       "      <td>75.0</td>\n",
       "      <td>0</td>\n",
       "      <td>0.0</td>\n",
       "      <td>1.0</td>\n",
       "      <td>1</td>\n",
       "      <td>abc</td>\n",
       "    </tr>\n",
       "    <tr>\n",
       "      <th>...</th>\n",
       "      <td>...</td>\n",
       "      <td>...</td>\n",
       "      <td>...</td>\n",
       "      <td>...</td>\n",
       "      <td>...</td>\n",
       "      <td>...</td>\n",
       "      <td>...</td>\n",
       "      <td>...</td>\n",
       "      <td>...</td>\n",
       "      <td>...</td>\n",
       "      <td>...</td>\n",
       "      <td>...</td>\n",
       "      <td>...</td>\n",
       "    </tr>\n",
       "    <tr>\n",
       "      <th>10874</th>\n",
       "      <td>12/19/2012 12:00</td>\n",
       "      <td>4.0</td>\n",
       "      <td>0</td>\n",
       "      <td>1.0</td>\n",
       "      <td>1.0</td>\n",
       "      <td>16.40</td>\n",
       "      <td>20.455</td>\n",
       "      <td>54.0</td>\n",
       "      <td>19.0012</td>\n",
       "      <td>33.0</td>\n",
       "      <td>203.0</td>\n",
       "      <td>236</td>\n",
       "      <td>stu</td>\n",
       "    </tr>\n",
       "    <tr>\n",
       "      <th>10875</th>\n",
       "      <td>12/19/2012 13:00</td>\n",
       "      <td>4.0</td>\n",
       "      <td>0</td>\n",
       "      <td>1.0</td>\n",
       "      <td>1.0</td>\n",
       "      <td>17.22</td>\n",
       "      <td>21.210</td>\n",
       "      <td>50.0</td>\n",
       "      <td>12.998</td>\n",
       "      <td>30.0</td>\n",
       "      <td>183.0</td>\n",
       "      <td>213</td>\n",
       "      <td>stu</td>\n",
       "    </tr>\n",
       "    <tr>\n",
       "      <th>10876</th>\n",
       "      <td>12/19/2012 14:00</td>\n",
       "      <td>4.0</td>\n",
       "      <td>0</td>\n",
       "      <td>1.0</td>\n",
       "      <td>1.0</td>\n",
       "      <td>17.22</td>\n",
       "      <td>21.210</td>\n",
       "      <td>50.0</td>\n",
       "      <td>12.998</td>\n",
       "      <td>33.0</td>\n",
       "      <td>185.0</td>\n",
       "      <td>218</td>\n",
       "      <td>stu</td>\n",
       "    </tr>\n",
       "    <tr>\n",
       "      <th>10877</th>\n",
       "      <td>12/19/2012 15:00</td>\n",
       "      <td>4.0</td>\n",
       "      <td>0</td>\n",
       "      <td>1.0</td>\n",
       "      <td>1.0</td>\n",
       "      <td>17.22</td>\n",
       "      <td>21.210</td>\n",
       "      <td>50.0</td>\n",
       "      <td>19.0012</td>\n",
       "      <td>28.0</td>\n",
       "      <td>209.0</td>\n",
       "      <td>237</td>\n",
       "      <td>stu</td>\n",
       "    </tr>\n",
       "    <tr>\n",
       "      <th>10878</th>\n",
       "      <td>12/19/2012 16:00</td>\n",
       "      <td>4.0</td>\n",
       "      <td>0</td>\n",
       "      <td>1.0</td>\n",
       "      <td>1.0</td>\n",
       "      <td>17.22</td>\n",
       "      <td>21.210</td>\n",
       "      <td>50.0</td>\n",
       "      <td>23.9994</td>\n",
       "      <td>37.0</td>\n",
       "      <td>297.0</td>\n",
       "      <td>334</td>\n",
       "      <td>stu</td>\n",
       "    </tr>\n",
       "  </tbody>\n",
       "</table>\n",
       "<p>10873 rows × 13 columns</p>\n",
       "</div>"
      ],
      "text/plain": [
       "               datetime  season holiday  workingday  weather   temp   atemp  \\\n",
       "0         1/1/2011 0:00     1.0       0         0.0      1.0   9.84  14.395   \n",
       "1         1/1/2011 1:00     1.0       0         0.0      1.0   9.02  13.635   \n",
       "2         1/1/2011 2:00     1.0       0         0.0      1.0   9.02  13.635   \n",
       "3         1/1/2011 3:00     1.0       0         0.0      1.0   9.84  14.395   \n",
       "4         1/1/2011 4:00     1.0       0         0.0      1.0   9.84  14.395   \n",
       "...                 ...     ...     ...         ...      ...    ...     ...   \n",
       "10874  12/19/2012 12:00     4.0       0         1.0      1.0  16.40  20.455   \n",
       "10875  12/19/2012 13:00     4.0       0         1.0      1.0  17.22  21.210   \n",
       "10876  12/19/2012 14:00     4.0       0         1.0      1.0  17.22  21.210   \n",
       "10877  12/19/2012 15:00     4.0       0         1.0      1.0  17.22  21.210   \n",
       "10878  12/19/2012 16:00     4.0       0         1.0      1.0  17.22  21.210   \n",
       "\n",
       "       humidity windspeed  casual  registered count Products  \n",
       "0          81.0         0     3.0        13.0    16      abc  \n",
       "1          80.0         0     8.0        32.0    40      abc  \n",
       "2          80.0         0     5.0        27.0    32      abc  \n",
       "3          75.0         0     3.0        10.0    13      abc  \n",
       "4          75.0         0     0.0         1.0     1      abc  \n",
       "...         ...       ...     ...         ...   ...      ...  \n",
       "10874      54.0   19.0012    33.0       203.0   236      stu  \n",
       "10875      50.0    12.998    30.0       183.0   213      stu  \n",
       "10876      50.0    12.998    33.0       185.0   218      stu  \n",
       "10877      50.0   19.0012    28.0       209.0   237      stu  \n",
       "10878      50.0   23.9994    37.0       297.0   334      stu  \n",
       "\n",
       "[10873 rows x 13 columns]"
      ]
     },
     "execution_count": 24,
     "metadata": {},
     "output_type": "execute_result"
    }
   ],
   "source": [
    "df['count'] = df['count'].fillna(0)\n",
    "df['windspeed'] = df['windspeed'].fillna(0)\n",
    "df"
   ]
  },
  {
   "cell_type": "code",
   "execution_count": 25,
   "id": "af1539c4",
   "metadata": {},
   "outputs": [
    {
     "name": "stdout",
     "output_type": "stream",
     "text": [
      "88.0\n"
     ]
    }
   ],
   "source": [
    "df['humidity'].value_counts()\n",
    "mode_col_h=df['humidity'].mode()[0]\n",
    "print(mode_col_h)\n",
    "df['humidity'] = df['humidity'].fillna(mode_col_h)"
   ]
  },
  {
   "cell_type": "code",
   "execution_count": 26,
   "id": "df14aaa6",
   "metadata": {},
   "outputs": [
    {
     "name": "stdout",
     "output_type": "stream",
     "text": [
      "20.209605372090824\n"
     ]
    }
   ],
   "source": [
    "mode_col_t=df['temp'].mean()\n",
    "print(mode_col_t)\n",
    "df['temp'] = df['temp'].fillna(mode_col_t)"
   ]
  },
  {
   "cell_type": "markdown",
   "id": "7150b491",
   "metadata": {},
   "source": [
    "The null values in count, humidity and temp are dealth here:\n",
    "\n",
    "> In count we just represent missing value by giving the value zero\n",
    "\n",
    "> In humidity since we are taking it as an objject we will just keep the mode for the missing two values , since the numer of missing values is less it will not that greatly effect the result if a value repeating itself repeat two more time.\n",
    "\n",
    "> For temperature we simply goes for mean, interpolation can also be used if we have higher number of missing values but at this point it won't have a drastic effect oon the polting of the curves."
   ]
  },
  {
   "cell_type": "code",
   "execution_count": 27,
   "id": "960d24ca",
   "metadata": {},
   "outputs": [
    {
     "data": {
      "text/plain": [
       "datetime      4\n",
       "season        0\n",
       "holiday       0\n",
       "workingday    0\n",
       "weather       0\n",
       "temp          0\n",
       "atemp         0\n",
       "humidity      0\n",
       "windspeed     0\n",
       "casual        0\n",
       "registered    0\n",
       "count         0\n",
       "Products      0\n",
       "dtype: int64"
      ]
     },
     "execution_count": 27,
     "metadata": {},
     "output_type": "execute_result"
    }
   ],
   "source": [
    "df.isna().sum()"
   ]
  },
  {
   "cell_type": "code",
   "execution_count": 28,
   "id": "72944df8",
   "metadata": {},
   "outputs": [],
   "source": [
    "df['datetime'] = df['datetime'].fillna(\"No Date and time\")"
   ]
  },
  {
   "cell_type": "code",
   "execution_count": 29,
   "id": "4949979f",
   "metadata": {},
   "outputs": [
    {
     "data": {
      "text/plain": [
       "datetime      0\n",
       "season        0\n",
       "holiday       0\n",
       "workingday    0\n",
       "weather       0\n",
       "temp          0\n",
       "atemp         0\n",
       "humidity      0\n",
       "windspeed     0\n",
       "casual        0\n",
       "registered    0\n",
       "count         0\n",
       "Products      0\n",
       "dtype: int64"
      ]
     },
     "execution_count": 29,
     "metadata": {},
     "output_type": "execute_result"
    }
   ],
   "source": [
    "df.isna().sum()"
   ]
  },
  {
   "cell_type": "markdown",
   "id": "e74a6514",
   "metadata": {},
   "source": [
    "> Datetime, taken the advantage of the object value is given a new category of no date and time which shows the absence of time and date."
   ]
  },
  {
   "cell_type": "markdown",
   "id": "4b59a9c9",
   "metadata": {},
   "source": [
    "### Miss entry"
   ]
  },
  {
   "cell_type": "code",
   "execution_count": 30,
   "id": "e8dd085b",
   "metadata": {},
   "outputs": [],
   "source": [
    "df['holiday'] = df['holiday'].str.replace('hello','0')"
   ]
  },
  {
   "cell_type": "code",
   "execution_count": 31,
   "id": "709150da",
   "metadata": {},
   "outputs": [
    {
     "name": "stdout",
     "output_type": "stream",
     "text": [
      "0    10562\n",
      "1      311\n",
      "Name: holiday, dtype: int64\n"
     ]
    }
   ],
   "source": [
    "print(df['holiday'].value_counts())"
   ]
  },
  {
   "cell_type": "markdown",
   "id": "cd3aabb0",
   "metadata": {},
   "source": [
    "Assuming that holiday column have a miss entry we will just replace the value from the column with the highest repeatetive value."
   ]
  },
  {
   "cell_type": "markdown",
   "id": "cc39f480",
   "metadata": {},
   "source": [
    "# Outliers"
   ]
  },
  {
   "cell_type": "markdown",
   "id": "d74bc251",
   "metadata": {},
   "source": [
    "First we see how many numeric columns do we have."
   ]
  },
  {
   "cell_type": "code",
   "execution_count": 32,
   "id": "cb421a02",
   "metadata": {},
   "outputs": [],
   "source": [
    "def get_cols_type(df):\n",
    "    types_of_col = df.dtypes.to_dict()\n",
    "    numeric_cols = []\n",
    "    category_cols = []\n",
    "    for m,p in types_of_col.items():\n",
    "        if np.issubdtype(np.int64, p) or np.issubdtype(np.float64, p):\n",
    "            numeric_cols.append(m)\n",
    "        if not( np.issubdtype(np.int64, p) or np.issubdtype(np.float64, p)):\n",
    "            category_cols.append(m)\n",
    "\n",
    "    return numeric_cols,category_cols"
   ]
  },
  {
   "cell_type": "code",
   "execution_count": 33,
   "id": "925f1754",
   "metadata": {},
   "outputs": [
    {
     "name": "stdout",
     "output_type": "stream",
     "text": [
      "['season', 'workingday', 'weather', 'temp', 'atemp', 'humidity', 'casual', 'registered']\n",
      "['datetime', 'holiday', 'windspeed', 'count', 'Products']\n"
     ]
    }
   ],
   "source": [
    "Numeric_columns_list, categorical_columns_list = get_cols_type(df)\n",
    "print(Numeric_columns_list)\n",
    "print(categorical_columns_list)"
   ]
  },
  {
   "cell_type": "markdown",
   "id": "1ad49505",
   "metadata": {},
   "source": [
    "In the method above the numeric columns and categorical columns are separated and a list is formed which will be further used to plot and visualize the data."
   ]
  },
  {
   "cell_type": "code",
   "execution_count": 34,
   "id": "b0a17296",
   "metadata": {},
   "outputs": [],
   "source": [
    "# Box Plot\n",
    "def box_plots(Numeric_columns_list, df):\n",
    "    for i in range(len(Numeric_columns_list)-1):\n",
    "        plt.figure(figsize=(9, 4), dpi = 100)\n",
    "        sns.boxplot(x = df[Numeric_columns_list[i]])\n",
    "\n",
    "# Distribution plots\n",
    "def dis_plots(Numeric_columns_list, df): \n",
    "    for i in range(len(Numeric_columns_list)-1):\n",
    "        plt.figure(figsize=(9, 4), dpi = 100)\n",
    "        sns.displot(df[Numeric_columns_list[i]])"
   ]
  },
  {
   "cell_type": "code",
   "execution_count": 35,
   "id": "848cd64f",
   "metadata": {},
   "outputs": [
    {
     "data": {
      "image/png": "[encoded data removed]",
      "text/plain": [
       "<Figure size 900x400 with 1 Axes>"
      ]
     },
     "metadata": {
      "needs_background": "light"
     },
     "output_type": "display_data"
    },
    {
     "data": {
      "image/png": "[encoded data removed]",
      "text/plain": [
       "<Figure size 900x400 with 1 Axes>"
      ]
     },
     "metadata": {
      "needs_background": "light"
     },
     "output_type": "display_data"
    },
    {
     "data": {
      "image/png": "[encoded data removed]",
      "text/plain": [
       "<Figure size 900x400 with 1 Axes>"
      ]
     },
     "metadata": {
      "needs_background": "light"
     },
     "output_type": "display_data"
    },
    {
     "data": {
      "image/png": "[encoded data removed]",
      "text/plain": [
       "<Figure size 900x400 with 1 Axes>"
      ]
     },
     "metadata": {
      "needs_background": "light"
     },
     "output_type": "display_data"
    },
    {
     "data": {
      "image/png": "[encoded data removed]",
      "text/plain": [
       "<Figure size 900x400 with 1 Axes>"
      ]
     },
     "metadata": {
      "needs_background": "light"
     },
     "output_type": "display_data"
    },
    {
     "data": {
      "image/png": "[encoded data removed]",
      "text/plain": [
       "<Figure size 900x400 with 1 Axes>"
      ]
     },
     "metadata": {
      "needs_background": "light"
     },
     "output_type": "display_data"
    },
    {
     "data": {
      "image/png": "[encoded data removed]",
      "text/plain": [
       "<Figure size 900x400 with 1 Axes>"
      ]
     },
     "metadata": {
      "needs_background": "light"
     },
     "output_type": "display_data"
    }
   ],
   "source": [
    "box_plots(Numeric_columns_list, df)"
   ]
  },
  {
   "cell_type": "code",
   "execution_count": 36,
   "id": "190a7d9f",
   "metadata": {},
   "outputs": [
    {
     "data": {
      "text/html": [
       "<div>\n",
       "<style scoped>\n",
       "    .dataframe tbody tr th:only-of-type {\n",
       "        vertical-align: middle;\n",
       "    }\n",
       "\n",
       "    .dataframe tbody tr th {\n",
       "        vertical-align: top;\n",
       "    }\n",
       "\n",
       "    .dataframe thead th {\n",
       "        text-align: right;\n",
       "    }\n",
       "</style>\n",
       "<table border=\"1\" class=\"dataframe\">\n",
       "  <thead>\n",
       "    <tr style=\"text-align: right;\">\n",
       "      <th></th>\n",
       "      <th>count</th>\n",
       "      <th>mean</th>\n",
       "      <th>std</th>\n",
       "      <th>min</th>\n",
       "      <th>25%</th>\n",
       "      <th>50%</th>\n",
       "      <th>75%</th>\n",
       "      <th>max</th>\n",
       "    </tr>\n",
       "  </thead>\n",
       "  <tbody>\n",
       "    <tr>\n",
       "      <th>season</th>\n",
       "      <td>10873.0</td>\n",
       "      <td>2.506668</td>\n",
       "      <td>1.115636</td>\n",
       "      <td>1.00</td>\n",
       "      <td>2.000</td>\n",
       "      <td>3.00</td>\n",
       "      <td>4.00</td>\n",
       "      <td>4.000</td>\n",
       "    </tr>\n",
       "    <tr>\n",
       "      <th>workingday</th>\n",
       "      <td>10873.0</td>\n",
       "      <td>0.680677</td>\n",
       "      <td>0.466236</td>\n",
       "      <td>0.00</td>\n",
       "      <td>0.000</td>\n",
       "      <td>1.00</td>\n",
       "      <td>1.00</td>\n",
       "      <td>1.000</td>\n",
       "    </tr>\n",
       "    <tr>\n",
       "      <th>weather</th>\n",
       "      <td>10873.0</td>\n",
       "      <td>1.418744</td>\n",
       "      <td>0.633884</td>\n",
       "      <td>1.00</td>\n",
       "      <td>1.000</td>\n",
       "      <td>1.00</td>\n",
       "      <td>2.00</td>\n",
       "      <td>4.000</td>\n",
       "    </tr>\n",
       "    <tr>\n",
       "      <th>temp</th>\n",
       "      <td>10873.0</td>\n",
       "      <td>20.209605</td>\n",
       "      <td>8.152147</td>\n",
       "      <td>-200.00</td>\n",
       "      <td>13.940</td>\n",
       "      <td>20.50</td>\n",
       "      <td>26.24</td>\n",
       "      <td>41.000</td>\n",
       "    </tr>\n",
       "    <tr>\n",
       "      <th>atemp</th>\n",
       "      <td>10873.0</td>\n",
       "      <td>23.662952</td>\n",
       "      <td>8.473409</td>\n",
       "      <td>0.76</td>\n",
       "      <td>16.665</td>\n",
       "      <td>24.24</td>\n",
       "      <td>31.06</td>\n",
       "      <td>45.455</td>\n",
       "    </tr>\n",
       "    <tr>\n",
       "      <th>humidity</th>\n",
       "      <td>10873.0</td>\n",
       "      <td>61.908765</td>\n",
       "      <td>19.254381</td>\n",
       "      <td>0.00</td>\n",
       "      <td>47.000</td>\n",
       "      <td>62.00</td>\n",
       "      <td>77.00</td>\n",
       "      <td>100.000</td>\n",
       "    </tr>\n",
       "    <tr>\n",
       "      <th>casual</th>\n",
       "      <td>10873.0</td>\n",
       "      <td>36.050032</td>\n",
       "      <td>49.982039</td>\n",
       "      <td>0.00</td>\n",
       "      <td>4.000</td>\n",
       "      <td>17.00</td>\n",
       "      <td>49.00</td>\n",
       "      <td>367.000</td>\n",
       "    </tr>\n",
       "    <tr>\n",
       "      <th>registered</th>\n",
       "      <td>10873.0</td>\n",
       "      <td>155.514118</td>\n",
       "      <td>151.007619</td>\n",
       "      <td>0.00</td>\n",
       "      <td>36.000</td>\n",
       "      <td>118.00</td>\n",
       "      <td>222.00</td>\n",
       "      <td>886.000</td>\n",
       "    </tr>\n",
       "  </tbody>\n",
       "</table>\n",
       "</div>"
      ],
      "text/plain": [
       "              count        mean         std     min     25%     50%     75%  \\\n",
       "season      10873.0    2.506668    1.115636    1.00   2.000    3.00    4.00   \n",
       "workingday  10873.0    0.680677    0.466236    0.00   0.000    1.00    1.00   \n",
       "weather     10873.0    1.418744    0.633884    1.00   1.000    1.00    2.00   \n",
       "temp        10873.0   20.209605    8.152147 -200.00  13.940   20.50   26.24   \n",
       "atemp       10873.0   23.662952    8.473409    0.76  16.665   24.24   31.06   \n",
       "humidity    10873.0   61.908765   19.254381    0.00  47.000   62.00   77.00   \n",
       "casual      10873.0   36.050032   49.982039    0.00   4.000   17.00   49.00   \n",
       "registered  10873.0  155.514118  151.007619    0.00  36.000  118.00  222.00   \n",
       "\n",
       "                max  \n",
       "season        4.000  \n",
       "workingday    1.000  \n",
       "weather       4.000  \n",
       "temp         41.000  \n",
       "atemp        45.455  \n",
       "humidity    100.000  \n",
       "casual      367.000  \n",
       "registered  886.000  "
      ]
     },
     "execution_count": 36,
     "metadata": {},
     "output_type": "execute_result"
    }
   ],
   "source": [
    "df.describe().T"
   ]
  },
  {
   "cell_type": "markdown",
   "id": "28798c66",
   "metadata": {},
   "source": [
    "The box plots are quite normal for season and working day.\n",
    ">> The outliers are detacted in   ------------\n",
    ">>      weather column at 4.0  ---------------------------\n",
    ">>      temp col at -100 and -200 -----------------------\n",
    ">>       humidity at 0       -----------------------\n",
    ">>        casual after 200 but maximum outlier is at almost more that 350"
   ]
  },
  {
   "cell_type": "code",
   "execution_count": 37,
   "id": "7fbda7b0",
   "metadata": {},
   "outputs": [
    {
     "data": {
      "text/plain": [
       "<AxesSubplot:>"
      ]
     },
     "execution_count": 37,
     "metadata": {},
     "output_type": "execute_result"
    },
    {
     "data": {
      "image/png": "[encoded data removed]",
      "text/plain": [
       "<Figure size 1080x576 with 2 Axes>"
      ]
     },
     "metadata": {
      "needs_background": "light"
     },
     "output_type": "display_data"
    }
   ],
   "source": [
    "fig, ax = plt.subplots(figsize=(15,8))       \n",
    "sns.heatmap(df.corr(), cmap= 'coolwarm')"
   ]
  },
  {
   "cell_type": "markdown",
   "id": "dae53849",
   "metadata": {},
   "source": [
    ">> The corelation between atemp and temp is quite strong\n",
    "\n",
    ">>between casual and registered it also on the kiddle of the scale.\n",
    "\n",
    ">>humidity and weather also have a corelation, not that strong but it still exist.\n",
    "\n"
   ]
  },
  {
   "cell_type": "code",
   "execution_count": 38,
   "id": "96b21ca7",
   "metadata": {},
   "outputs": [
    {
     "data": {
      "text/plain": [
       "<Figure size 900x400 with 0 Axes>"
      ]
     },
     "metadata": {},
     "output_type": "display_data"
    },
    {
     "data": {
      "image/png": "[encoded data removed]",
      "text/plain": [
       "<Figure size 360x360 with 1 Axes>"
      ]
     },
     "metadata": {
      "needs_background": "light"
     },
     "output_type": "display_data"
    },
    {
     "data": {
      "text/plain": [
       "<Figure size 900x400 with 0 Axes>"
      ]
     },
     "metadata": {},
     "output_type": "display_data"
    },
    {
     "data": {
      "image/png": "[encoded data removed]",
      "text/plain": [
       "<Figure size 360x360 with 1 Axes>"
      ]
     },
     "metadata": {
      "needs_background": "light"
     },
     "output_type": "display_data"
    },
    {
     "data": {
      "text/plain": [
       "<Figure size 900x400 with 0 Axes>"
      ]
     },
     "metadata": {},
     "output_type": "display_data"
    },
    {
     "data": {
      "image/png": "[encoded data removed]",
      "text/plain": [
       "<Figure size 360x360 with 1 Axes>"
      ]
     },
     "metadata": {
      "needs_background": "light"
     },
     "output_type": "display_data"
    },
    {
     "data": {
      "text/plain": [
       "<Figure size 900x400 with 0 Axes>"
      ]
     },
     "metadata": {},
     "output_type": "display_data"
    },
    {
     "data": {
      "image/png": "[encoded data removed]",
      "text/plain": [
       "<Figure size 360x360 with 1 Axes>"
      ]
     },
     "metadata": {
      "needs_background": "light"
     },
     "output_type": "display_data"
    },
    {
     "data": {
      "text/plain": [
       "<Figure size 900x400 with 0 Axes>"
      ]
     },
     "metadata": {},
     "output_type": "display_data"
    },
    {
     "data": {
      "image/png": "[encoded data removed]",
      "text/plain": [
       "<Figure size 360x360 with 1 Axes>"
      ]
     },
     "metadata": {
      "needs_background": "light"
     },
     "output_type": "display_data"
    },
    {
     "data": {
      "text/plain": [
       "<Figure size 900x400 with 0 Axes>"
      ]
     },
     "metadata": {},
     "output_type": "display_data"
    },
    {
     "data": {
      "image/png": "[encoded data removed]",
      "text/plain": [
       "<Figure size 360x360 with 1 Axes>"
      ]
     },
     "metadata": {
      "needs_background": "light"
     },
     "output_type": "display_data"
    },
    {
     "data": {
      "text/plain": [
       "<Figure size 900x400 with 0 Axes>"
      ]
     },
     "metadata": {},
     "output_type": "display_data"
    },
    {
     "data": {
      "image/png": "[encoded data removed]",
      "text/plain": [
       "<Figure size 360x360 with 1 Axes>"
      ]
     },
     "metadata": {
      "needs_background": "light"
     },
     "output_type": "display_data"
    }
   ],
   "source": [
    "# distribution of column\n",
    "dis_plots(Numeric_columns_list, df)\n"
   ]
  },
  {
   "cell_type": "markdown",
   "id": "480a1c1d",
   "metadata": {},
   "source": [
    "> The distribution graphs shows the patterns followed by different data as:\n",
    "\n",
    ">>>count decrease drastically between zero and fifty.\n",
    "\n",
    ">>>humidity increase mostly after 40.\n",
    "\n",
    ">>> atemp forms a parabolic curve.\n",
    "\n",
    ">>>temp have major values between 0 and 50\n",
    "\n",
    ">>>season, weather and workingday show simple bar graphs.\n"
   ]
  },
  {
   "cell_type": "markdown",
   "id": "7b58eb08",
   "metadata": {},
   "source": [
    "# Analysis of categorical columns"
   ]
  },
  {
   "cell_type": "code",
   "execution_count": 39,
   "id": "62930fe3",
   "metadata": {},
   "outputs": [
    {
     "name": "stdout",
     "output_type": "stream",
     "text": [
      "No Date and time    4\n",
      "1/1/2011 0:00       1\n",
      "5/1/2012 21:00      1\n",
      "5/1/2012 13:00      1\n",
      "5/1/2012 14:00      1\n",
      "                   ..\n",
      "9/2/2011 8:00       1\n",
      "9/2/2011 9:00       1\n",
      "9/2/2011 10:00      1\n",
      "9/2/2011 11:00      1\n",
      "12/19/2012 16:00    1\n",
      "Name: datetime, Length: 10870, dtype: int64\n",
      "\n",
      "0    10562\n",
      "1      311\n",
      "Name: holiday, dtype: int64\n",
      "\n",
      "0          1312\n",
      "8.9981     1118\n",
      "11.0014    1057\n",
      "12.998     1042\n",
      "7.0015     1032\n",
      "15.0013     958\n",
      "6.0032      871\n",
      "16.9979     823\n",
      "19.0012     676\n",
      "19.9995     492\n",
      "22.0028     372\n",
      "23.9994     272\n",
      "26.0027     232\n",
      "27.9993     187\n",
      "30.0026     111\n",
      "31.0009      89\n",
      "32.9975      80\n",
      "35.0008      58\n",
      "39.0007      27\n",
      "36.9974      21\n",
      "43.0006      12\n",
      "40.9973      11\n",
      "43.9989       8\n",
      "46.0022       3\n",
      "47.9988       2\n",
      "56.9969       2\n",
      "0             2\n",
      "50.0021       1\n",
      "51.9987       1\n",
      "why not       1\n",
      "Name: windspeed, dtype: int64\n",
      "\n",
      "5      169\n",
      "4      149\n",
      "3      144\n",
      "6      135\n",
      "2      132\n",
      "      ... \n",
      "825      1\n",
      "830      1\n",
      "660      1\n",
      "819      1\n",
      "636      1\n",
      "Name: count, Length: 824, dtype: int64\n",
      "\n",
      "pqr    4057\n",
      "abc    3547\n",
      "def    2398\n",
      "stu     870\n",
      "xyz       1\n",
      "Name: Products, dtype: int64\n",
      "\n"
     ]
    }
   ],
   "source": [
    "# Value counts of categorical columns:\n",
    "for col in categorical_columns_list:\n",
    "    print(df[col].value_counts())\n",
    "    print()"
   ]
  },
  {
   "cell_type": "markdown",
   "id": "5990640f",
   "metadata": {},
   "source": [
    "So here we can analyzie the categorical data \n",
    ">dateand time have unique values except where the data is unavailable so we just take a string representing unavailability of data \n",
    "\n",
    ">holiday = it has two options of 0 and 1 and an outlier stating hello (already treated above)\n",
    "\n",
    ">windspeed = windspeed does  not have alot of redundant values \n",
    "\n",
    "The other two categories also show different kind of trends."
   ]
  },
  {
   "cell_type": "markdown",
   "id": "f28902c9",
   "metadata": {},
   "source": [
    "# Inferential Analysis"
   ]
  },
  {
   "cell_type": "markdown",
   "id": "10381374",
   "metadata": {},
   "source": [
    "### t-test"
   ]
  },
  {
   "cell_type": "code",
   "execution_count": 40,
   "id": "8b936a2b",
   "metadata": {},
   "outputs": [],
   "source": [
    "def t_test(df):\n",
    "    num_columns,c = get_cols_type(df)\n",
    "    for i in range(len(num_columns)-1):\n",
    "        print(\"\\n --------\"+num_columns[i]+\"--------\")\n",
    "        for j in range(i+1,len(num_columns)):\n",
    "            col1 = num_columns[i]\n",
    "            col2 = num_columns[j]\n",
    "            t_val, p_val = stats.ttest_ind(df[col1], df[col2])\n",
    "            print(\"(%s,%s) => t-value=%s, p-value=%s\" % (num_columns[i], num_columns[j], str(t_val), str(p_val)))\n",
    "            # interpret p-value\n",
    "            alpha = 0.05\n",
    "            #print('significance=%.3f, p=%.3f' % (alpha, p_val))\n",
    "            if p_val <= alpha:\n",
    "                print('Dependent (reject H0)')\n",
    "            else:\n",
    "                print('Independent (fail to reject H0)')\n"
   ]
  },
  {
   "cell_type": "code",
   "execution_count": 41,
   "id": "6e8994d9",
   "metadata": {},
   "outputs": [
    {
     "name": "stdout",
     "output_type": "stream",
     "text": [
      "\n",
      " --------season--------\n",
      "(season,workingday) => t-value=157.46960211279355, p-value=0.0\n",
      "Dependent (reject H0)\n",
      "(season,weather) => t-value=88.40947162836846, p-value=0.0\n",
      "Dependent (reject H0)\n",
      "(season,temp) => t-value=-224.34625274403413, p-value=0.0\n",
      "Dependent (reject H0)\n",
      "(season,atemp) => t-value=-258.12131200010396, p-value=0.0\n",
      "Dependent (reject H0)\n",
      "(season,humidity) => t-value=-321.15826822701587, p-value=0.0\n",
      "Dependent (reject H0)\n",
      "(season,casual) => t-value=-69.96151104361162, p-value=0.0\n",
      "Dependent (reject H0)\n",
      "(season,registered) => t-value=-105.65171684966866, p-value=0.0\n",
      "Dependent (reject H0)\n",
      "\n",
      " --------workingday--------\n",
      "(workingday,weather) => t-value=-97.8048578018828, p-value=0.0\n",
      "Dependent (reject H0)\n",
      "(workingday,temp) => t-value=-249.38596087405438, p-value=0.0\n",
      "Dependent (reject H0)\n",
      "(workingday,atemp) => t-value=-282.39245591316035, p-value=0.0\n",
      "Dependent (reject H0)\n",
      "(workingday,humidity) => t-value=-331.4885585573864, p-value=0.0\n",
      "Dependent (reject H0)\n",
      "(workingday,casual) => t-value=-73.78515109040633, p-value=0.0\n",
      "Dependent (reject H0)\n",
      "(workingday,registered) => t-value=-106.91497260231364, p-value=0.0\n",
      "Dependent (reject H0)\n",
      "\n",
      " --------weather--------\n",
      "(weather,temp) => t-value=-239.62959344448737, p-value=0.0\n",
      "Dependent (reject H0)\n",
      "(weather,atemp) => t-value=-272.9742138044897, p-value=0.0\n",
      "Dependent (reject H0)\n",
      "(weather,humidity) => t-value=-327.41128585181133, p-value=0.0\n",
      "Dependent (reject H0)\n",
      "(weather,casual) => t-value=-72.24277981384328, p-value=0.0\n",
      "Dependent (reject H0)\n",
      "(weather,registered) => t-value=-106.40489537147766, p-value=0.0\n",
      "Dependent (reject H0)\n",
      "\n",
      " --------temp--------\n",
      "(temp,atemp) => t-value=-30.62475272666031, p-value=1.0896368031407532e-201\n",
      "Dependent (reject H0)\n",
      "(temp,humidity) => t-value=-207.95412330157114, p-value=0.0\n",
      "Dependent (reject H0)\n",
      "(temp,casual) => t-value=-32.61568655048412, p-value=7.476425773906725e-228\n",
      "Dependent (reject H0)\n",
      "(temp,registered) => t-value=-93.29453079881209, p-value=0.0\n",
      "Dependent (reject H0)\n",
      "\n",
      " --------atemp--------\n",
      "(atemp,humidity) => t-value=-189.57772370690253, p-value=0.0\n",
      "Dependent (reject H0)\n",
      "(atemp,casual) => t-value=-25.478675088123527, p-value=3.9885128825763126e-141\n",
      "Dependent (reject H0)\n",
      "(atemp,registered) => t-value=-90.90278119022375, p-value=0.0\n",
      "Dependent (reject H0)\n",
      "\n",
      " --------humidity--------\n",
      "(humidity,casual) => t-value=50.340965535861336, p-value=0.0\n",
      "Dependent (reject H0)\n",
      "(humidity,registered) => t-value=-64.11720398875578, p-value=0.0\n",
      "Dependent (reject H0)\n",
      "\n",
      " --------casual--------\n",
      "(casual,registered) => t-value=-78.31390446271067, p-value=0.0\n",
      "Dependent (reject H0)\n"
     ]
    }
   ],
   "source": [
    "t_test(df)"
   ]
  },
  {
   "cell_type": "markdown",
   "id": "2891e732",
   "metadata": {},
   "source": [
    "This simply shows that relation exist .\n",
    "If a p-value reported from a t test is less than 0.05, then that result is said to be statistically significant. If a p-value is greater than 0.05, then the result is insignificant.\n",
    "\n",
    ">> so many columns have a significant result here.\n",
    "\n",
    ">>> For annova it simply means to show that relation exist between and string and numeric value\n",
    "\n",
    ">>> Tukey confirms the relation exit betwween two particular groups."
   ]
  },
  {
   "cell_type": "markdown",
   "id": "25a218cd",
   "metadata": {},
   "source": [
    "### Chi Square"
   ]
  },
  {
   "cell_type": "code",
   "execution_count": 42,
   "id": "56d0729c",
   "metadata": {},
   "outputs": [],
   "source": [
    "from scipy.stats import chi2_contingency\n",
    "from scipy.stats import chi2\n",
    "\n",
    "def chi_square_test(cat_cols, df):\n",
    "    for i in range(len(cat_cols)-1):\n",
    "        print(\"\\n\\t --------\"+cat_cols[i]+\"--------\")\n",
    "        for j in range(i+1,len(cat_cols)):\n",
    "            cat_var1 = cat_cols[i]\n",
    "            cat_var2 = cat_cols[j]\n",
    "            data_crosstab = pd.crosstab(df[cat_var1], df[cat_var2], margins = False) \n",
    "            print(data_crosstab) \n",
    "\n",
    "            stat, p, dof, expected = chi2_contingency(data_crosstab)\n",
    "            print('dof=%d' % dof)\n",
    "            print(expected)\n",
    "\n",
    "            alpha = 0.05\n",
    "            print('significance=%.3f, p=%.3f' % (alpha, p))\n",
    "            if p <= alpha:\n",
    "                print('Dependent (reject H0)')\n",
    "            else:\n",
    "                print('Independent (fail to reject H0)')\n",
    "            print(\"\\n\")"
   ]
  },
  {
   "cell_type": "markdown",
   "id": "84bb689e",
   "metadata": {},
   "source": [
    "### Anova"
   ]
  },
  {
   "cell_type": "code",
   "execution_count": 43,
   "id": "4cf40662",
   "metadata": {},
   "outputs": [],
   "source": [
    "import statsmodels.api as sm\n",
    "from statsmodels.formula.api import ols\n",
    "\n",
    "def anova_test(num_cols, cat_cols, df):\n",
    "    for i in range(len(num_cols)-1):   \n",
    "        num_col = num_cols[i]\n",
    "        for j in range(len(cat_cols)-1):\n",
    "            cat_col = cat_cols[j]\n",
    "            mod = ols(num_col+\" ~ \"+cat_col,data=df).fit()\n",
    "            aov_table=sm.stats.anova_lm(mod, typ=2)\n",
    "            print (\"\\nANOVA => \"+num_col+\" - \"+cat_col)\n",
    "            print(aov_table)\n",
    "            print()"
   ]
  },
  {
   "cell_type": "markdown",
   "id": "19a1bf57",
   "metadata": {},
   "source": [
    "### Tukey"
   ]
  },
  {
   "cell_type": "code",
   "execution_count": 44,
   "id": "df4b14d3",
   "metadata": {},
   "outputs": [],
   "source": [
    "from statsmodels.stats.multicomp import pairwise_tukeyhsd\n",
    "\n",
    "\n",
    "def tukeyhsd_test(num_cols, cat_cols, df):\n",
    "    for i in range(len(num_cols)-1):\n",
    "        num_var = num_cols[i]\n",
    "        print(\"\\t-------------\"+num_var+\"-------------\")\n",
    "        for j in range(len(cat_cols)-1):\n",
    "            cat_var = cat_cols[j]\n",
    "            tukey = pairwise_tukeyhsd(endog=df[num_var], groups=df[cat_var], alpha=0.05)\n",
    "            #display results\n",
    "            \n",
    "            print(cat_var)\n",
    "            print(tukey)\n",
    "            print()"
   ]
  },
  {
   "cell_type": "code",
   "execution_count": 47,
   "id": "fb925bf3",
   "metadata": {},
   "outputs": [],
   "source": [
    "##from pandas_profiling import ProfileReport\n",
    "##prof = ProfileReport(df)\n",
    "##prof.to_file(output_file='output.html')"
   ]
  },
  {
   "cell_type": "code",
   "execution_count": null,
   "id": "5b89af1d",
   "metadata": {},
   "outputs": [],
   "source": []
  }
 ],
 "metadata": {
  "kernelspec": {
   "display_name": "Python 3 (ipykernel)",
   "language": "python",
   "name": "python3"
  },
  "language_info": {
   "codemirror_mode": {
    "name": "ipython",
    "version": 3
   },
   "file_extension": ".py",
   "mimetype": "text/x-python",
   "name": "python",
   "nbconvert_exporter": "python",
   "pygments_lexer": "ipython3",
   "version": "3.9.7"
  }
 },
 "nbformat": 4,
 "nbformat_minor": 5
}
